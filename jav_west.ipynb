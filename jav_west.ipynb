{
 "cells": [
  {
   "cell_type": "code",
   "execution_count": 482,
   "metadata": {},
   "outputs": [],
   "source": [
    "import requests \n",
    "import pandas as pd\n",
    "from requests import exceptions\n",
    "from bs4 import BeautifulSoup as soup\n",
    "from selenium import webdriver\n",
    "from selenium.webdriver.common.by import By\n",
    "from selenium.webdriver.support.ui import WebDriverWait\n",
    "from selenium.webdriver.support import expected_conditions as EC"
   ]
  },
  {
   "cell_type": "code",
   "execution_count": 445,
   "metadata": {},
   "outputs": [],
   "source": [
    "#get full website\n",
    "web = requests.get(\"https://yourporn.sexy/sexy-CHINESE-GIRL.html\")\n",
    "content = web.content\n",
    "full_content = soup(content, \"html.parser\")\n",
    "content_1 = full_content.find_all(\"div\", {\"class\" : \"post_el_small\"})"
   ]
  },
  {
   "cell_type": "code",
   "execution_count": 446,
   "metadata": {},
   "outputs": [],
   "source": [
    "#get prelink\n",
    "view_1 = content_1[0].find_all(\"a\")\n",
    "prelink = \"\"\n",
    "count= 0\n",
    "for links in view_1:\n",
    "    if count == 0:\n",
    "        string = str(links)\n",
    "        if \"post\" in string:\n",
    "            prelink = string\n",
    "            #print(prelink)\n",
    "            count +=1"
   ]
  },
  {
   "cell_type": "code",
   "execution_count": 447,
   "metadata": {},
   "outputs": [],
   "source": [
    "#https://s12-1.trafficdeposit.com/bvideo/OveI6-OWRtcnl2JyZx29Fg/1531539661/5a0b5ff2d94da/5a84e8b3790a5.mp4"
   ]
  },
  {
   "cell_type": "code",
   "execution_count": 448,
   "metadata": {
    "scrolled": true
   },
   "outputs": [],
   "source": [
    "#get link for video\n",
    "prelink = prelink.split()\n",
    "link = prelink[1]\n",
    "link = link[6:len(link) - 6]"
   ]
  },
  {
   "cell_type": "code",
   "execution_count": 449,
   "metadata": {},
   "outputs": [
    {
     "data": {
      "text/plain": [
       "'https://yourporn.sexy/post/5a84e8b3790a5.html?sk=sexy-CHINESE-GIRL&amp;so=0&amp;ss=latest'"
      ]
     },
     "execution_count": 449,
     "metadata": {},
     "output_type": "execute_result"
    }
   ],
   "source": [
    "link = \"https://yourporn.sexy\"+link\n",
    "link"
   ]
  },
  {
   "cell_type": "code",
   "execution_count": 450,
   "metadata": {
    "collapsed": true
   },
   "outputs": [],
   "source": [
    "web_2 = requests.get(\"https://yourporn.sexy/post/5a84e8b3790a5.html?sk=sexy-CHINESE-GIRL&amp;so=0&amp;ss=latest\")\n",
    "content_2 = web_2.content\n",
    "full_content_1 = soup(content_2, \"html.parser\")"
   ]
  },
  {
   "cell_type": "code",
   "execution_count": 451,
   "metadata": {},
   "outputs": [
    {
     "name": "stdout",
     "output_type": "stream",
     "text": [
      "s12 alCi_46rZcVOXDGtc3uoMQ 1531597036 5a0b5ff2d94da 5a84e8b3790a5\n",
      "https://s12.trafficdeposit.com/bvideo/alCi_46rZcVOXDGtc3uoMQ/1531597036/5a0b5ff2d94da/5a84e8b3790a5.mp4\n"
     ]
    }
   ],
   "source": [
    "#get all the sub_directiorys\n",
    "\n",
    "\"https://s12-1.trafficdeposit.com/bvideo/uCPg0lLvdc4mRUHDttbb-Q/1531585511/5a0b5ff2d94da/5a84e8b3790a5.mp4\"\n",
    "\"https://con1.trafficdeposit.com/bvideo/con2/con3/con4/con5.mp4\"\n",
    "\n",
    "token = full_content_1.find_all(\"span\",  {\"class\":\"vidsnfo\"})\n",
    "con1 = str(token).split(\"/\")[2][:-1]\n",
    "con2 = str(token).split(\"/\")[3][:-1]\n",
    "con3 = str(token).split(\"/\")[4][:-1]\n",
    "con5 = str(token).split('\"')[3]\n",
    "token_1 = full_content_1.find_all(\"div\", {\"class\":\"pes_author_div pes_edit_div transition\"})\n",
    "con4 = str(token_1).split('\"')[3]\n",
    "print(con1, con2, con3, con4, con5)\n",
    "final_link = \"https://\"+con1+\".trafficdeposit.com/bvideo/\"+con2+\"/\"+con3+\"/\"+con4+\"/\"+con5+\".mp4\"\n",
    "print (final_link)"
   ]
  },
  {
   "cell_type": "code",
   "execution_count": 452,
   "metadata": {
    "collapsed": true
   },
   "outputs": [],
   "source": [
    "def download_file(url):\n",
    "    local_filename = url.split('/')[-1]\n",
    "    # NOTE the stream=True parameter\n",
    "    r = requests.get(url, stream=True)\n",
    "    with open(local_filename, 'wb') as f:\n",
    "        for chunk in r.iter_content(chunk_size=1024): \n",
    "            if chunk: # filter out keep-alive new chunks\n",
    "                f.write(chunk)\n",
    "                #f.flush() commented by recommendation from J.F.Sebastian\n",
    "    return local_filename"
   ]
  },
  {
   "cell_type": "code",
   "execution_count": 453,
   "metadata": {},
   "outputs": [
    {
     "data": {
      "text/plain": [
       "'5a84e8b3790a5.mp4'"
      ]
     },
     "execution_count": 453,
     "metadata": {},
     "output_type": "execute_result"
    }
   ],
   "source": [
    "download_file(final_link)"
   ]
  },
  {
   "cell_type": "code",
   "execution_count": 484,
   "metadata": {
    "collapsed": true
   },
   "outputs": [],
   "source": [
    "web_2 = requests.get(\"https://www.javqd.com/movie/fc2-ppv-878585-first-shot-loli-breasts-slender-beauty-micro-bikini-richness.html\")\n",
    "content_2 = web_2.content\n",
    "full_content_1 = soup(content_2, \"html.parser\")"
   ]
  },
  {
   "cell_type": "code",
   "execution_count": 495,
   "metadata": {},
   "outputs": [
    {
     "data": {
      "text/plain": [
       "'https://www.javqd.com/embed/r57mgrkm74k'"
      ]
     },
     "execution_count": 495,
     "metadata": {},
     "output_type": "execute_result"
    }
   ],
   "source": [
    "link = str(full_content_1.find(\"textarea\" ,{\"class\":\"select-all\"})).split('\"')[13]\n",
    "link"
   ]
  },
  {
   "cell_type": "code",
   "execution_count": 493,
   "metadata": {},
   "outputs": [
    {
     "name": "stdout",
     "output_type": "stream",
     "text": [
      "https://www.fembed.com/v/mzvkmrp719q\n"
     ]
    }
   ],
   "source": [
    "browser = webdriver.Chrome(r'/Users/MacBookPro/Desktop/Real_Madrid/chromedriver')\n",
    "wait = WebDriverWait(browser, 10)\n",
    "browser.get(link)\n",
    "elements = browser.find_element_by_css_selector(\"#external-embed\").get_attribute(\"src\")\n",
    "print (elements)\n",
    "browser.close()"
   ]
  },
  {
   "cell_type": "code",
   "execution_count": 494,
   "metadata": {},
   "outputs": [
    {
     "name": "stdout",
     "output_type": "stream",
     "text": [
      "https://www204.superembed.com/token=xyQwSZS2ZVEbOps6OCvO8Q/1531619199/64.228.0.0/4/f/eb/138477ce76d233153e7a8f2654e3cebf-360p.mp4\n"
     ]
    }
   ],
   "source": [
    "browser = webdriver.Chrome(r'/Users/MacBookPro/Desktop/Real_Madrid/chromedriver')\n",
    "wait = WebDriverWait(browser, 10)\n",
    "browser.get(elements)\n",
    "elements = browser.find_element_by_css_selector(\"video\").get_attribute(\"src\")\n",
    "print (elements)\n",
    "browser.close()"
   ]
  },
  {
   "cell_type": "code",
   "execution_count": 480,
   "metadata": {},
   "outputs": [
    {
     "data": {
      "text/plain": [
       "'138477ce76d233153e7a8f2654e3cebf-360p.mp4'"
      ]
     },
     "execution_count": 480,
     "metadata": {},
     "output_type": "execute_result"
    }
   ],
   "source": [
    "download_file(elements)"
   ]
  },
  {
   "cell_type": "code",
   "execution_count": null,
   "metadata": {
    "collapsed": true
   },
   "outputs": [],
   "source": [
    "https://www.javqd.com/embed/r57mgrkm74k\n",
    "\n",
    "https://www.fembed.com/v/mzvkmrp719q\n",
    "    \n",
    "https://www204.superembed.com/token=xyQwSZS2ZVEbOps6OCvO8Q/1531619199/64.228.0.0/4/f/eb/138477ce76d233153e7a8f2654e3cebf-360p.mp4"
   ]
  }
 ],
 "metadata": {
  "kernelspec": {
   "display_name": "Python 3",
   "language": "python",
   "name": "python3"
  },
  "language_info": {
   "codemirror_mode": {
    "name": "ipython",
    "version": 3
   },
   "file_extension": ".py",
   "mimetype": "text/x-python",
   "name": "python",
   "nbconvert_exporter": "python",
   "pygments_lexer": "ipython3",
   "version": "3.6.3"
  }
 },
 "nbformat": 4,
 "nbformat_minor": 2
}
