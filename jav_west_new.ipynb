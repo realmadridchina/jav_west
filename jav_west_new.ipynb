{
 "cells": [
  {
   "cell_type": "code",
   "execution_count": 1,
   "metadata": {},
   "outputs": [
    {
     "name": "stderr",
     "output_type": "stream",
     "text": [
      "/Applications/anaconda3/lib/python3.6/site-packages/psycopg2/__init__.py:144: UserWarning: The psycopg2 wheel package will be renamed from release 2.8; in order to keep installing from binary please use \"pip install psycopg2-binary\" instead. For details see: <http://initd.org/psycopg/docs/install.html#binary-install-from-pypi>.\n",
      "  \"\"\")\n"
     ]
    }
   ],
   "source": [
    "import requests \n",
    "import pandas as pd\n",
    "from requests import exceptions\n",
    "from bs4 import BeautifulSoup as soup\n",
    "from selenium import webdriver\n",
    "from selenium.webdriver.common.by import By\n",
    "from selenium.webdriver.support.ui import WebDriverWait\n",
    "from selenium.webdriver.support import expected_conditions as EC\n",
    "import argparse\n",
    "import os\n",
    "import sys\n",
    "import psycopg2"
   ]
  },
  {
   "cell_type": "code",
   "execution_count": 2,
   "metadata": {
    "collapsed": true
   },
   "outputs": [],
   "source": [
    "EXCEPTIONS = set([IOError, FileNotFoundError, exceptions.RequestException, exceptions.HTTPError,\n",
    "                 exceptions.ConnectionError, exceptions.Timeout])"
   ]
  },
  {
   "cell_type": "code",
   "execution_count": 3,
   "metadata": {},
   "outputs": [
    {
     "name": "stdout",
     "output_type": "stream",
     "text": [
      "dbname =  'web_scrapper_db' user= 'postgres' password= 'postgres123' host = 'localhost' port = '5432'\n"
     ]
    },
    {
     "data": {
      "text/plain": [
       "<__main__.database at 0x10a6f0f98>"
      ]
     },
     "execution_count": 3,
     "metadata": {},
     "output_type": "execute_result"
    }
   ],
   "source": [
    "class database:\n",
    "    def __init__(self, dbname, user, password):\n",
    "        host = \"'localhost'\"\n",
    "        port=\"'5432'\"\n",
    "        db = \"dbname =  '\"+ str(dbname) + \"' user= '\"+str(user)+r\"' password= '\"+str(password) + \"' host = \"+str(host)+\" port = \" + str(port)\n",
    "        db = str(db)\n",
    "        print (db)\n",
    "        #conn = psycopg2.connect(\"dbname = 'web_scrapper_db' user='postgres' password='postgresql123' host = 'localhost' port='5432'\")\n",
    "        conn = psycopg2.connect(db)\n",
    "        cur = conn.cursor()\n",
    "        cur.execute(\"CREATE TABLE IF NOT EXISTS real_madrid (Name_of_video text, search_criteria text, Date_added text, Duration text, cast_name text, category text, description text, Tags text, Fembed_Link text)\")\n",
    "        conn.commit()\n",
    "        conn.close()\n",
    "\n",
    "    def insert(Name_of_video,Date_added, Duration,cast_name,Category, Description, Tags, search_criteria, Fembed_Link):\n",
    "        conn = psycopg2.connect(\"dbname = 'web_scrapper_db' user='postgres' password='postgres123' host = 'localhost'port='5432'\")\n",
    "        cur = conn.cursor() \n",
    "        cur.execute(\"INSERT INTO real_madrid VALUES (%s, %s, %s, %s, %s, %s, %s, %s, %s)\",(Name_of_video,Date_added, Duration,cast_name,Category, Description, Tags, search_criteria, Fembed_Link))\n",
    "        conn.commit()\n",
    "        conn.close()\n",
    "\n",
    "    def view():\n",
    "        conn = psycopg2.connect(\"dbname = 'web_scrapper_db' user='postgres' password='postgres123' host = 'localhost'port='5432'\")\n",
    "        cur = conn.cursor()\n",
    "        cur.execute(\"SELECT * FROM real_madrid\")\n",
    "        view = cur.fetchall()\n",
    "        conn.close()\n",
    "        return view\n",
    "database('web_scrapper_db' , 'postgres', 'postgres123') #pass your credentials in strings like this"
   ]
  },
  {
   "cell_type": "code",
   "execution_count": 4,
   "metadata": {
    "collapsed": true
   },
   "outputs": [],
   "source": [
    "def download_file(url):\n",
    "    local_filename = url.split('/')[-1]\n",
    "    # NOTE the stream=True parameter\n",
    "    r = requests.get(url, stream=True)\n",
    "    with open(local_filename, 'wb') as f:\n",
    "        for chunk in r.iter_content(chunk_size=1024): \n",
    "            if chunk: # filter out keep-alive new chunks\n",
    "                f.write(chunk)\n",
    "                #f.flush() commented by recommendation from J.F.Sebastian\n",
    "    return local_filename"
   ]
  },
  {
   "cell_type": "markdown",
   "metadata": {},
   "source": [
    "===============================================JAVqd.COM=============================================================="
   ]
  },
  {
   "cell_type": "code",
   "execution_count": 29,
   "metadata": {},
   "outputs": [
    {
     "name": "stdout",
     "output_type": "stream",
     "text": [
      "https://www.javqd.com/search/movie/beautigul-girl/page-1.html\n",
      "81\n"
     ]
    }
   ],
   "source": [
    "search_criteria = \"beautigul-girl\" #put '-' instead of space\n",
    "url = \"https://www.javqd.com/search/movie/\"+ search_criteria +\"/page-1.html\"\n",
    "print (url)\n",
    "web= requests.get(url)\n",
    "content = web.content\n",
    "full_search_return = soup(content, \"html.parser\")\n",
    "video_content_list = full_search_return.find_all(\"div\", {\"class\":\"col-lg-3 col-md-4 col-sm-6 videoitem\"})\n",
    "total_num_dis_page = 32\n",
    "total_number_result_page = full_search_return.find(\"div\", {\"class\": \"col-xs-12 border\"}).text.split(' ')[1]\n",
    "total_number_result_page = int (int(total_number_result_page)/total_num_dis_page)\n",
    "total_number_result_page\n",
    "if total_number_result_page ==  0:\n",
    "    total_number_result_page = 1\n",
    "print(total_number_result_page)"
   ]
  },
  {
   "cell_type": "code",
   "execution_count": 35,
   "metadata": {
    "scrolled": true
   },
   "outputs": [
    {
     "name": "stdout",
     "output_type": "stream",
     "text": [
      "1\n",
      "2\n",
      "3\n",
      "4\n",
      "5\n",
      "6\n",
      "7\n",
      "8\n",
      "9\n",
      "10\n",
      "11\n",
      "12\n",
      "13\n",
      "https://www.fembed.com/v/40oxn-lyyv8\n",
      "https://www.fembed.com/v/1xoqd0-exv4\n",
      "https://www.fembed.com/v/6mo2nyn1dor\n",
      "https://www.fembed.com/v/5jv4e5kexo0\n",
      "https://www.fembed.com/v/dw9r3-eqp9g\n",
      "https://www.fembed.com/v/yxv3lx0mqvl\n",
      "https://www.fembed.com/v/05ole2pznv6\n",
      "https://www.fembed.com/v/env8k66l0v1\n",
      "https://www.fembed.com/v/8goz1lgkyvd\n",
      "https://www.fembed.com/v/8xop7dngqo7\n",
      "https://www.fembed.com/v/1l96k3n5lo5\n",
      "https://www.fembed.com/v/80oe16427vj\n",
      "https://www.fembed.com/v/80oe1rlq7vj\n",
      "https://www.fembed.com/v/40oxnlw8yv8\n",
      "https://www.fembed.com/v/dwor3w76pog\n",
      "https://www.fembed.com/v/7zv--m2r2vx\n",
      "https://www.fembed.com/v/809e1rjm7oj\n",
      "https://www.fembed.com/v/6mo2n7n4dor\n",
      "https://www.fembed.com/v/8gvz1l58y9d\n",
      "https://www.fembed.com/v/1xvqdwgxx94\n",
      "https://www.fembed.com/v/dwor3wpkpog\n",
      "https://www.fembed.com/v/1lo6kplqlv5\n",
      "https://www.fembed.com/v/7yvwzyn0xvj\n",
      "https://www.fembed.com/v/8g9z12g6yod\n",
      "https://www.fembed.com/v/8gody7ynpoy\n",
      "https://www.fembed.com/v/dwor31w0pog\n",
      "https://www.fembed.com/v/4lo0xgxexoq\n",
      "https://www.fembed.com/v/54oye7rxx9l\n",
      "https://www.fembed.com/v/p6ogprezxoj\n",
      "https://www.fembed.com/v/p6ogpgn8xoj\n",
      "https://www.fembed.com/v/8g9z1148yod\n",
      "https://www.fembed.com/v/80ve1ydx79j\n",
      "https://www.fembed.com/v/8g9dyymzp9y\n",
      "https://www.fembed.com/v/3q91llmz2oy\n",
      "https://www.fembed.com/v/8xvp77klqv7\n",
      "https://www.fembed.com/v/8g9dyy0rp9y\n",
      "https://www.fembed.com/v/4d9jkrdjyv1\n",
      "https://www.fembed.com/v/8g9z1wkqyod\n",
      "https://www.fembed.com/v/40oxnrp5yv8\n",
      "https://www.fembed.com/v/pm95le0m8vl\n",
      "https://www.fembed.com/v/eno8k26j0o1\n",
      "https://www.fembed.com/v/1xvqde0xx94\n",
      "https://www.fembed.com/v/05vle6jdn96\n",
      "https://www.fembed.com/v/4dvjkredyo1\n",
      "https://www.fembed.com/v/7z9--6zn29x\n",
      "https://www.fembed.com/v/8g9dy3rxp9y\n",
      "https://www.fembed.com/v/2wvm3zkgl96\n",
      "https://www.fembed.com/v/dwvr3n0jpvg\n",
      "https://www.fembed.com/v/8gvz1p3xy9d\n",
      "https://www.fembed.com/v/40oxnx2zyv8\n",
      "https://www.fembed.com/v/3qo1lr2y2vy\n",
      "https://www.fembed.com/v/dw9r3nldp9g\n",
      "https://www.fembed.com/v/8g9dyy2zp9y\n",
      "https://www.fembed.com/v/6mo2nz5ddor\n",
      "https://www.fembed.com/v/mzokppe01vq\n",
      "https://www.fembed.com/v/yx93llgeq9l\n",
      "https://www.fembed.com/v/6mo2nn86dor\n",
      "https://www.fembed.com/v/4d9jkkljyv1\n"
     ]
    },
    {
     "ename": "NoSuchWindowException",
     "evalue": "Message: no such window: target window already closed\nfrom unknown error: web view not found\n  (Session info: chrome=67.0.3396.99)\n  (Driver info: chromedriver=2.40.565386 (45a059dc425e08165f9a10324bd1380cc13ca363),platform=Mac OS X 10.13.5 x86_64)\n",
     "output_type": "error",
     "traceback": [
      "\u001b[0;31m---------------------------------------------------------------------------\u001b[0m",
      "\u001b[0;31mNoSuchWindowException\u001b[0m                     Traceback (most recent call last)",
      "\u001b[0;32m<ipython-input-35-bdb77d9c067e>\u001b[0m in \u001b[0;36m<module>\u001b[0;34m()\u001b[0m\n\u001b[1;32m     22\u001b[0m             \u001b[0mwait\u001b[0m \u001b[0;34m=\u001b[0m \u001b[0mWebDriverWait\u001b[0m\u001b[0;34m(\u001b[0m\u001b[0mbrowser\u001b[0m\u001b[0;34m,\u001b[0m \u001b[0;36m10\u001b[0m\u001b[0;34m)\u001b[0m\u001b[0;34m\u001b[0m\u001b[0m\n\u001b[1;32m     23\u001b[0m             \u001b[0mbrowser\u001b[0m\u001b[0;34m.\u001b[0m\u001b[0mget\u001b[0m\u001b[0;34m(\u001b[0m\u001b[0mlink\u001b[0m\u001b[0;34m)\u001b[0m\u001b[0;34m\u001b[0m\u001b[0m\n\u001b[0;32m---> 24\u001b[0;31m             \u001b[0melements\u001b[0m \u001b[0;34m=\u001b[0m \u001b[0mbrowser\u001b[0m\u001b[0;34m.\u001b[0m\u001b[0mfind_element_by_css_selector\u001b[0m\u001b[0;34m(\u001b[0m\u001b[0;34m\"#external-embed\"\u001b[0m\u001b[0;34m)\u001b[0m\u001b[0;34m.\u001b[0m\u001b[0mget_attribute\u001b[0m\u001b[0;34m(\u001b[0m\u001b[0;34m\"src\"\u001b[0m\u001b[0;34m)\u001b[0m\u001b[0;34m\u001b[0m\u001b[0m\n\u001b[0m\u001b[1;32m     25\u001b[0m             \u001b[0mfembed_link\u001b[0m \u001b[0;34m=\u001b[0m \u001b[0melements\u001b[0m\u001b[0;34m\u001b[0m\u001b[0m\n\u001b[1;32m     26\u001b[0m             \u001b[0mprint\u001b[0m \u001b[0;34m(\u001b[0m\u001b[0mfembed_link\u001b[0m\u001b[0;34m)\u001b[0m\u001b[0;34m\u001b[0m\u001b[0m\n",
      "\u001b[0;32m/Applications/anaconda3/lib/python3.6/site-packages/selenium/webdriver/remote/webdriver.py\u001b[0m in \u001b[0;36mfind_element_by_css_selector\u001b[0;34m(self, css_selector)\u001b[0m\n\u001b[1;32m    595\u001b[0m             \u001b[0melement\u001b[0m \u001b[0;34m=\u001b[0m \u001b[0mdriver\u001b[0m\u001b[0;34m.\u001b[0m\u001b[0mfind_element_by_css_selector\u001b[0m\u001b[0;34m(\u001b[0m\u001b[0;34m'#foo'\u001b[0m\u001b[0;34m)\u001b[0m\u001b[0;34m\u001b[0m\u001b[0m\n\u001b[1;32m    596\u001b[0m         \"\"\"\n\u001b[0;32m--> 597\u001b[0;31m         \u001b[0;32mreturn\u001b[0m \u001b[0mself\u001b[0m\u001b[0;34m.\u001b[0m\u001b[0mfind_element\u001b[0m\u001b[0;34m(\u001b[0m\u001b[0mby\u001b[0m\u001b[0;34m=\u001b[0m\u001b[0mBy\u001b[0m\u001b[0;34m.\u001b[0m\u001b[0mCSS_SELECTOR\u001b[0m\u001b[0;34m,\u001b[0m \u001b[0mvalue\u001b[0m\u001b[0;34m=\u001b[0m\u001b[0mcss_selector\u001b[0m\u001b[0;34m)\u001b[0m\u001b[0;34m\u001b[0m\u001b[0m\n\u001b[0m\u001b[1;32m    598\u001b[0m \u001b[0;34m\u001b[0m\u001b[0m\n\u001b[1;32m    599\u001b[0m     \u001b[0;32mdef\u001b[0m \u001b[0mfind_elements_by_css_selector\u001b[0m\u001b[0;34m(\u001b[0m\u001b[0mself\u001b[0m\u001b[0;34m,\u001b[0m \u001b[0mcss_selector\u001b[0m\u001b[0;34m)\u001b[0m\u001b[0;34m:\u001b[0m\u001b[0;34m\u001b[0m\u001b[0m\n",
      "\u001b[0;32m/Applications/anaconda3/lib/python3.6/site-packages/selenium/webdriver/remote/webdriver.py\u001b[0m in \u001b[0;36mfind_element\u001b[0;34m(self, by, value)\u001b[0m\n\u001b[1;32m    964\u001b[0m         return self.execute(Command.FIND_ELEMENT, {\n\u001b[1;32m    965\u001b[0m             \u001b[0;34m'using'\u001b[0m\u001b[0;34m:\u001b[0m \u001b[0mby\u001b[0m\u001b[0;34m,\u001b[0m\u001b[0;34m\u001b[0m\u001b[0m\n\u001b[0;32m--> 966\u001b[0;31m             'value': value})['value']\n\u001b[0m\u001b[1;32m    967\u001b[0m \u001b[0;34m\u001b[0m\u001b[0m\n\u001b[1;32m    968\u001b[0m     \u001b[0;32mdef\u001b[0m \u001b[0mfind_elements\u001b[0m\u001b[0;34m(\u001b[0m\u001b[0mself\u001b[0m\u001b[0;34m,\u001b[0m \u001b[0mby\u001b[0m\u001b[0;34m=\u001b[0m\u001b[0mBy\u001b[0m\u001b[0;34m.\u001b[0m\u001b[0mID\u001b[0m\u001b[0;34m,\u001b[0m \u001b[0mvalue\u001b[0m\u001b[0;34m=\u001b[0m\u001b[0;32mNone\u001b[0m\u001b[0;34m)\u001b[0m\u001b[0;34m:\u001b[0m\u001b[0;34m\u001b[0m\u001b[0m\n",
      "\u001b[0;32m/Applications/anaconda3/lib/python3.6/site-packages/selenium/webdriver/remote/webdriver.py\u001b[0m in \u001b[0;36mexecute\u001b[0;34m(self, driver_command, params)\u001b[0m\n\u001b[1;32m    318\u001b[0m         \u001b[0mresponse\u001b[0m \u001b[0;34m=\u001b[0m \u001b[0mself\u001b[0m\u001b[0;34m.\u001b[0m\u001b[0mcommand_executor\u001b[0m\u001b[0;34m.\u001b[0m\u001b[0mexecute\u001b[0m\u001b[0;34m(\u001b[0m\u001b[0mdriver_command\u001b[0m\u001b[0;34m,\u001b[0m \u001b[0mparams\u001b[0m\u001b[0;34m)\u001b[0m\u001b[0;34m\u001b[0m\u001b[0m\n\u001b[1;32m    319\u001b[0m         \u001b[0;32mif\u001b[0m \u001b[0mresponse\u001b[0m\u001b[0;34m:\u001b[0m\u001b[0;34m\u001b[0m\u001b[0m\n\u001b[0;32m--> 320\u001b[0;31m             \u001b[0mself\u001b[0m\u001b[0;34m.\u001b[0m\u001b[0merror_handler\u001b[0m\u001b[0;34m.\u001b[0m\u001b[0mcheck_response\u001b[0m\u001b[0;34m(\u001b[0m\u001b[0mresponse\u001b[0m\u001b[0;34m)\u001b[0m\u001b[0;34m\u001b[0m\u001b[0m\n\u001b[0m\u001b[1;32m    321\u001b[0m             response['value'] = self._unwrap_value(\n\u001b[1;32m    322\u001b[0m                 response.get('value', None))\n",
      "\u001b[0;32m/Applications/anaconda3/lib/python3.6/site-packages/selenium/webdriver/remote/errorhandler.py\u001b[0m in \u001b[0;36mcheck_response\u001b[0;34m(self, response)\u001b[0m\n\u001b[1;32m    240\u001b[0m                 \u001b[0malert_text\u001b[0m \u001b[0;34m=\u001b[0m \u001b[0mvalue\u001b[0m\u001b[0;34m[\u001b[0m\u001b[0;34m'alert'\u001b[0m\u001b[0;34m]\u001b[0m\u001b[0;34m.\u001b[0m\u001b[0mget\u001b[0m\u001b[0;34m(\u001b[0m\u001b[0;34m'text'\u001b[0m\u001b[0;34m)\u001b[0m\u001b[0;34m\u001b[0m\u001b[0m\n\u001b[1;32m    241\u001b[0m             \u001b[0;32mraise\u001b[0m \u001b[0mexception_class\u001b[0m\u001b[0;34m(\u001b[0m\u001b[0mmessage\u001b[0m\u001b[0;34m,\u001b[0m \u001b[0mscreen\u001b[0m\u001b[0;34m,\u001b[0m \u001b[0mstacktrace\u001b[0m\u001b[0;34m,\u001b[0m \u001b[0malert_text\u001b[0m\u001b[0;34m)\u001b[0m\u001b[0;34m\u001b[0m\u001b[0m\n\u001b[0;32m--> 242\u001b[0;31m         \u001b[0;32mraise\u001b[0m \u001b[0mexception_class\u001b[0m\u001b[0;34m(\u001b[0m\u001b[0mmessage\u001b[0m\u001b[0;34m,\u001b[0m \u001b[0mscreen\u001b[0m\u001b[0;34m,\u001b[0m \u001b[0mstacktrace\u001b[0m\u001b[0;34m)\u001b[0m\u001b[0;34m\u001b[0m\u001b[0m\n\u001b[0m\u001b[1;32m    243\u001b[0m \u001b[0;34m\u001b[0m\u001b[0m\n\u001b[1;32m    244\u001b[0m     \u001b[0;32mdef\u001b[0m \u001b[0m_value_or_default\u001b[0m\u001b[0;34m(\u001b[0m\u001b[0mself\u001b[0m\u001b[0;34m,\u001b[0m \u001b[0mobj\u001b[0m\u001b[0;34m,\u001b[0m \u001b[0mkey\u001b[0m\u001b[0;34m,\u001b[0m \u001b[0mdefault\u001b[0m\u001b[0;34m)\u001b[0m\u001b[0;34m:\u001b[0m\u001b[0;34m\u001b[0m\u001b[0m\n",
      "\u001b[0;31mNoSuchWindowException\u001b[0m: Message: no such window: target window already closed\nfrom unknown error: web view not found\n  (Session info: chrome=67.0.3396.99)\n  (Driver info: chromedriver=2.40.565386 (45a059dc425e08165f9a10324bd1380cc13ca363),platform=Mac OS X 10.13.5 x86_64)\n"
     ]
    }
   ],
   "source": [
    "for page in range (total_number_result_page):\n",
    "    if page > 12:\n",
    "        url = \"https://www.javqd.com/search/movie/\"+ search_criteria +\"/page-\" + str(page)+\".html\"\n",
    "        web= requests.get(url)\n",
    "        content = web.content\n",
    "        full_search_return = soup(content, \"html.parser\")\n",
    "        video_content_list = full_search_return.find_all(\"div\", {\"class\":\"col-lg-3 col-md-4 col-sm-6 videoitem\"})\n",
    "        total_num_dis_page = 32\n",
    "        total_number_result_page = full_search_return.find(\"div\", {\"class\": \"col-xs-12 border\"}).text.split(' ')[1]\n",
    "        total_number_result_page = int (int(total_number_result_page)/total_num_dis_page)\n",
    "        total_number_result_page\n",
    "        try:\n",
    "            for video in range (total_num_dis_page):\n",
    "                link_video_main_page = str(video_content_list[video].find(\"a\")).split('\"')[1]\n",
    "                link_video_main_page = \"https://www.javqd.com\" + link_video_main_page\n",
    "                #print (link_video_main_page)\n",
    "                web_main_page = requests.get(link_video_main_page)\n",
    "                content_main_page = web_main_page.content\n",
    "                content_parsed = soup(content_main_page, \"html.parser\")\n",
    "                link = str(content_parsed.find(\"textarea\" ,{\"class\":\"select-all\"})).split('\"')[13]\n",
    "                #print (link)\n",
    "                browser = webdriver.Chrome(r'/Users/MacBookPro/Desktop/Real_Madrid/chromedriver')\n",
    "                wait = WebDriverWait(browser, 10)\n",
    "                browser.get(link)\n",
    "                elements = browser.find_element_by_css_selector(\"#external-embed\").get_attribute(\"src\")\n",
    "                fembed_link = elements\n",
    "                print (fembed_link)\n",
    "                browser.close()\n",
    "                Name_of_video = content_parsed.find(\"h2\", {\"class\":\"info-box-heading\"}).text\n",
    "                #print(Name_of_video)\n",
    "                v_info = content_parsed.find(\"div\", {\"class\": \"tab-content tab-description active\"}).text.lower().split(\"\\n\")\n",
    "\n",
    "                try:\n",
    "                    for item in v_info:\n",
    "                        if item == \"added:\" or item == \"added\":\n",
    "                            index = v_info.index(item)\n",
    "                            date_added = v_info[int(index) + 1]\n",
    "                            #print (date_added)\n",
    "                except Exception as e:\n",
    "                        date_added = \"NaN\"\n",
    "\n",
    "                try:\n",
    "                    for item in v_info:\n",
    "                        if item == \"duration:\" or item == \"duration\":\n",
    "                            index = v_info.index(item)\n",
    "                            duration = v_info[int(index) + 1]\n",
    "                            #print (duration)\n",
    "                except Exception as e:\n",
    "                        duration = \"NaN\"\n",
    "\n",
    "                try:\n",
    "                    for item in v_info:\n",
    "                        if item == \"cast:\" or item == \"cast\":\n",
    "                            index = v_info.index(item)\n",
    "                            cast_name = v_info[int(index) + 1]\n",
    "                            #print (cast_name)\n",
    "                except Exception as e:\n",
    "                        cast_name = \"NaN\"\n",
    "\n",
    "                try:\n",
    "                    for item in v_info:\n",
    "                        if item == \"category:\" or item == \"category\":\n",
    "                            index = v_info.index(item)\n",
    "                            category = v_info[int(index) + 1]\n",
    "                            #print (category)\n",
    "                except Exception as e:\n",
    "                        category = \"NaN\"\n",
    "\n",
    "                try:\n",
    "                    for item in v_info:\n",
    "                        if item == \"description:\" or item == \"description\":\n",
    "                            index = v_info.index(item)\n",
    "                            description = str(v_info[int(index) + 1])\n",
    "                            #print (description)\n",
    "                except Exception as e:\n",
    "                        description = \"NaN\"\n",
    "\n",
    "                try:\n",
    "                    for item in v_info:\n",
    "                        if item == \"tags:\" or item == \"tags\":\n",
    "                            index = v_info.index(item)\n",
    "                            tags = v_info[int(index) + 1: len(v_info)]\n",
    "                            #print (tags)\n",
    "                except Exception as e:\n",
    "                        Tags = \"NaN\"\n",
    "\n",
    "\n",
    "                database.insert(Name_of_video , search_criteria , date_added , duration , cast_name , category , description , tags , fembed_link)\n",
    "        except Exception as e:\n",
    "            continue\n",
    "    else:\n",
    "        page = page + 1\n",
    "        print(page)"
   ]
  },
  {
   "cell_type": "code",
   "execution_count": 23,
   "metadata": {},
   "outputs": [
    {
     "name": "stdout",
     "output_type": "stream",
     "text": [
      "43\n"
     ]
    }
   ],
   "source": [
    "print(page)"
   ]
  },
  {
   "cell_type": "code",
   "execution_count": null,
   "metadata": {
    "scrolled": true
   },
   "outputs": [],
   "source": [
    "link_video_main_page = str(video_content_list[videos].find(\"a\")).split('\"')[1]\n",
    "link_video_main_page = \"https://www.javqd.com\" + link_video_main_page\n",
    "link_video_main_page"
   ]
  },
  {
   "cell_type": "code",
   "execution_count": null,
   "metadata": {},
   "outputs": [],
   "source": [
    "web_main_page = requests.get(link_video_main_page)\n",
    "content_main_page = web_main_page.content\n",
    "content_parsed = soup(content_main_page, \"html.parser\")\n",
    "link = str(content_parsed.find(\"textarea\" ,{\"class\":\"select-all\"})).split('\"')[13]\n",
    "link"
   ]
  },
  {
   "cell_type": "code",
   "execution_count": null,
   "metadata": {},
   "outputs": [],
   "source": [
    "browser = webdriver.Chrome(r'/Users/MacBookPro/Desktop/Real_Madrid/chromedriver')\n",
    "wait = WebDriverWait(browser, 10)\n",
    "browser.get(link)\n",
    "elements = browser.find_element_by_css_selector(\"#external-embed\").get_attribute(\"src\")\n",
    "fembed_link = elements\n",
    "print (fembed_link)\n",
    "browser.close()"
   ]
  },
  {
   "cell_type": "code",
   "execution_count": null,
   "metadata": {
    "collapsed": true
   },
   "outputs": [],
   "source": [
    "###final link needed for downloading\n",
    "browser = webdriver.Chrome(r'/Users/MacBookPro/Desktop/Real_Madrid/chromedriver')\n",
    "wait = WebDriverWait(browser, 10)\n",
    "browser.get(elements)\n",
    "elements = browser.find_element_by_css_selector(\"video\").get_attribute(\"src\")\n",
    "print (elements)\n",
    "browser.close()"
   ]
  },
  {
   "cell_type": "code",
   "execution_count": null,
   "metadata": {},
   "outputs": [],
   "source": [
    "download_file(elements)"
   ]
  },
  {
   "cell_type": "markdown",
   "metadata": {},
   "source": [
    "===========================================West(yourporn.sexy)================================================="
   ]
  },
  {
   "cell_type": "markdown",
   "metadata": {
    "collapsed": true
   },
   "source": [
    "#get full website\n",
    "web = requests.get(\"https://yourporn.sexy/sexy-CHINESE-GIRL.html\")\n",
    "content = web.content\n",
    "full_content = soup(content, \"html.parser\")\n",
    "content_1 = full_content.find_all(\"div\", {\"class\" : \"post_el_small\"})"
   ]
  },
  {
   "cell_type": "markdown",
   "metadata": {
    "collapsed": true
   },
   "source": [
    "#get prelink\n",
    "view_1 = content_1[0].find_all(\"a\")\n",
    "prelink = \"\"\n",
    "count= 0\n",
    "for links in view_1:\n",
    "    if count == 0:\n",
    "        string = str(links)\n",
    "        if \"post\" in string:\n",
    "            prelink = string\n",
    "            #print(prelink)\n",
    "            count +=1"
   ]
  },
  {
   "cell_type": "markdown",
   "metadata": {
    "collapsed": true
   },
   "source": [
    "#https://s12-1.trafficdeposit.com/bvideo/OveI6-OWRtcnl2JyZx29Fg/1531539661/5a0b5ff2d94da/5a84e8b3790a5.mp4"
   ]
  },
  {
   "cell_type": "markdown",
   "metadata": {
    "collapsed": true,
    "scrolled": true
   },
   "source": [
    "#get link for video\n",
    "prelink = prelink.split()\n",
    "link = prelink[1]\n",
    "link = link[6:len(link) - 6]"
   ]
  },
  {
   "cell_type": "markdown",
   "metadata": {},
   "source": [
    "link = \"https://yourporn.sexy\"+link\n",
    "link"
   ]
  },
  {
   "cell_type": "markdown",
   "metadata": {
    "collapsed": true
   },
   "source": [
    "web_2 = requests.get(\"https://yourporn.sexy/post/5a84e8b3790a5.html?sk=sexy-CHINESE-GIRL&amp;so=0&amp;ss=latest\")\n",
    "content_2 = web_2.content\n",
    "full_content_1 = soup(content_2, \"html.parser\")"
   ]
  },
  {
   "cell_type": "markdown",
   "metadata": {},
   "source": [
    "#get all the sub_directiorys\n",
    "\n",
    "\"https://s12-1.trafficdeposit.com/bvideo/uCPg0lLvdc4mRUHDttbb-Q/1531585511/5a0b5ff2d94da/5a84e8b3790a5.mp4\"\n",
    "\"https://con1.trafficdeposit.com/bvideo/con2/con3/con4/con5.mp4\"\n",
    "\n",
    "token = full_content_1.find_all(\"span\",  {\"class\":\"vidsnfo\"})\n",
    "con1 = str(token).split(\"/\")[2][:-1]\n",
    "con2 = str(token).split(\"/\")[3][:-1]\n",
    "con3 = str(token).split(\"/\")[4][:-1]\n",
    "con5 = str(token).split('\"')[3]\n",
    "token_1 = full_content_1.find_all(\"div\", {\"class\":\"pes_author_div pes_edit_div transition\"})\n",
    "con4 = str(token_1).split('\"')[3]\n",
    "print(con1, con2, con3, con4, con5)\n",
    "final_link = \"https://\"+con1+\".trafficdeposit.com/bvideo/\"+con2+\"/\"+con3+\"/\"+con4+\"/\"+con5+\".mp4\"\n",
    "print (final_link)"
   ]
  },
  {
   "cell_type": "markdown",
   "metadata": {},
   "source": [
    "download_file(final_link)"
   ]
  }
 ],
 "metadata": {
  "kernelspec": {
   "display_name": "Python 3",
   "language": "python",
   "name": "python3"
  },
  "language_info": {
   "codemirror_mode": {
    "name": "ipython",
    "version": 3
   },
   "file_extension": ".py",
   "mimetype": "text/x-python",
   "name": "python",
   "nbconvert_exporter": "python",
   "pygments_lexer": "ipython3",
   "version": "3.6.3"
  }
 },
 "nbformat": 4,
 "nbformat_minor": 2
}
