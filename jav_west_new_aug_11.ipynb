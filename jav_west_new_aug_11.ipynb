{
 "cells": [
  {
   "cell_type": "code",
   "execution_count": 29,
   "metadata": {},
   "outputs": [],
   "source": [
    "import requests \n",
    "import pandas as pd\n",
    "from requests import exceptions\n",
    "from bs4 import BeautifulSoup as soup\n",
    "from selenium import webdriver\n",
    "from selenium.webdriver.common.by import By\n",
    "from selenium.webdriver.support.ui import WebDriverWait\n",
    "from selenium.webdriver.support import expected_conditions as EC\n",
    "import argparse\n",
    "import os\n",
    "import sys\n",
    "import psycopg2"
   ]
  },
  {
   "cell_type": "code",
   "execution_count": 2,
   "metadata": {
    "collapsed": true
   },
   "outputs": [],
   "source": [
    "EXCEPTIONS = set([IOError, FileNotFoundError, exceptions.RequestException, exceptions.HTTPError,\n",
    "                 exceptions.ConnectionError, exceptions.Timeout])"
   ]
  },
  {
   "cell_type": "code",
   "execution_count": 511,
   "metadata": {},
   "outputs": [
    {
     "name": "stdout",
     "output_type": "stream",
     "text": [
      "dbname =  'web_scrapper_db' user= 'postgres' password= 'postgres123' host = 'localhost' port = '5432'\n"
     ]
    },
    {
     "data": {
      "text/plain": [
       "<__main__.database at 0x11b6c4d68>"
      ]
     },
     "execution_count": 511,
     "metadata": {},
     "output_type": "execute_result"
    }
   ],
   "source": [
    "class database:\n",
    "    def __init__(self, dbname, user, password):\n",
    "        host = \"'localhost'\"\n",
    "        port=\"'5432'\"\n",
    "        db = \"dbname =  '\"+ str(dbname) + \"' user= '\"+str(user)+r\"' password= '\"+str(password) + \"' host = \"+str(host)+\" port = \" + str(port)\n",
    "        db = str(db)\n",
    "        print (db)\n",
    "        #conn = psycopg2.connect(\"dbname = 'web_scrapper_db' user='postgres' password='postgresql123' host = 'localhost' port='5432'\")\n",
    "        conn = psycopg2.connect(db)\n",
    "        cur = conn.cursor()\n",
    "        cur.execute(\"CREATE TABLE IF NOT EXISTS real_madrid (Name_of_video text, search_criteria text, Date_added text, Duration text, cast_name text, category text, description text, Tags text, Fembed_Link text)\")\n",
    "        conn.commit()\n",
    "        conn.close()\n",
    "\n",
    "    def insert_old_copy(Name_of_video,Date_added, Duration,cast_name,Category, Description, Tags, search_criteria, Fembed_Link):\n",
    "        conn = psycopg2.connect(\"dbname = 'web_scrapper_db' user='postgres' password='postgres123' host = 'localhost'port='5432'\")\n",
    "        cur = conn.cursor() \n",
    "        cur.execute(\"INSERT INTO real_madrid VALUES (%s , %s, %s, %s, %s, %s, %s, %s, %s)\",(Name_of_video,Date_added, Duration,cast_name,Category, Description, Tags, search_criteria, Fembed_Link))\n",
    "        conn.commit()\n",
    "        conn.close()\n",
    "\n",
    "    def view():\n",
    "        conn = psycopg2.connect(\"dbname = 'web_scrapper_db' user='postgres' password='postgres123' host = 'localhost'port='5432'\")\n",
    "        cur = conn.cursor()\n",
    "        cur.execute(\"SELECT * FROM real_madrid\")\n",
    "        view = cur.fetchall()\n",
    "        conn.close()\n",
    "        return view\n",
    "    \n",
    "    \n",
    "    def insert(Name_of_video,Date_added, Duration,cast_name,Category, Description, Tags, search_criteria, Fembed_Link):\n",
    "        conn = psycopg2.connect(\"dbname = 'web_scrapper_db' user='postgres' password='postgres123' host = 'localhost'port='5432'\")\n",
    "        cur = conn.cursor() \n",
    "        cur.execute(\"SELECT * FROM real_madrid WHERE Name_of_video LIKE %s\", [Name_of_video])\n",
    "        exist = cur.fetchall()\n",
    "        if len (exist) > 1:\n",
    "            pass\n",
    "        else:\n",
    "            cur.execute(\"INSERT INTO real_madrid VALUES (%s , %s, %s, %s, %s, %s, %s, %s, %s)\",(Name_of_video,Date_added, Duration,cast_name,Category, Description, Tags, search_criteria, Fembed_Link))\n",
    "            conn.commit()\n",
    "        conn.close()\n",
    "        \n",
    "    \n",
    "database('web_scrapper_db' , 'postgres', 'postgres123') #pass your credentials in strings like this"
   ]
  },
  {
   "cell_type": "code",
   "execution_count": 4,
   "metadata": {
    "collapsed": true
   },
   "outputs": [],
   "source": [
    "def download_file(url):\n",
    "    local_filename = url.split('/')[-1]\n",
    "    # NOTE the stream=True parameter\n",
    "    r = requests.get(url, stream=True)\n",
    "    with open(local_filename, 'wb') as f:\n",
    "        for chunk in r.iter_content(chunk_size=1024): \n",
    "            if chunk: # filter out keep-alive new chunks\n",
    "                f.write(chunk)\n",
    "                #f.flush() commented by recommendation from J.F.Sebastian\n",
    "    return local_filename"
   ]
  },
  {
   "cell_type": "markdown",
   "metadata": {},
   "source": [
    "===============================================JAVqd.COM=============================================================="
   ]
  },
  {
   "cell_type": "code",
   "execution_count": 11,
   "metadata": {},
   "outputs": [
    {
     "name": "stdout",
     "output_type": "stream",
     "text": [
      "https://www.javqd.com/search/movie/beautigul-girl/page-1.html\n",
      "82\n"
     ]
    }
   ],
   "source": [
    "search_criteria = \"beautiful-girl\" #put '-' instead of space\n",
    "url = \"https://www.javqd.com/search/movie/\"+ search_criteria +\"/page-1.html\"\n",
    "print (url)\n",
    "web= requests.get(url)\n",
    "content = web.content\n",
    "full_search_return = soup(content, \"html.parser\")\n",
    "video_content_list = full_search_return.find_all(\"div\", {\"class\":\"col-lg-3 col-md-4 col-sm-6 videoitem\"})\n",
    "total_num_dis_page = 32\n",
    "total_number_result_page = full_search_return.find(\"div\", {\"class\": \"col-xs-12 border\"}).text.split(' ')[1]\n",
    "total_number_result_page = int (int(total_number_result_page)/total_num_dis_page)\n",
    "total_number_result_page\n",
    "if total_number_result_page ==  0:\n",
    "    total_number_result_page = 1\n",
    "print(total_number_result_page)"
   ]
  },
  {
   "cell_type": "code",
   "execution_count": 12,
   "metadata": {
    "scrolled": true
   },
   "outputs": [
    {
     "name": "stdout",
     "output_type": "stream",
     "text": [
      "1\n",
      "2\n",
      "3\n",
      "4\n",
      "5\n",
      "6\n",
      "7\n",
      "8\n",
      "9\n",
      "10\n",
      "11\n",
      "12\n",
      "13\n",
      "https://www.fembed.com/v/8gvz1r34y9d\n",
      "https://www.fembed.com/v/1l96kdyzlo5\n",
      "https://www.fembed.com/v/zyvn4lzq891\n",
      "https://www.fembed.com/v/05olelkknv6\n",
      "https://www.fembed.com/v/05olex5qnv6\n",
      "https://www.fembed.com/v/1xoqdlqlxv4\n"
     ]
    },
    {
     "ename": "KeyboardInterrupt",
     "evalue": "",
     "output_type": "error",
     "traceback": [
      "\u001b[0;31m---------------------------------------------------------------------------\u001b[0m",
      "\u001b[0;31mKeyboardInterrupt\u001b[0m                         Traceback (most recent call last)",
      "\u001b[0;32m<ipython-input-12-d0e622170541>\u001b[0m in \u001b[0;36m<module>\u001b[0;34m()\u001b[0m\n\u001b[1;32m     22\u001b[0m                 \u001b[0mbrowser\u001b[0m \u001b[0;34m=\u001b[0m \u001b[0mwebdriver\u001b[0m\u001b[0;34m.\u001b[0m\u001b[0mChrome\u001b[0m\u001b[0;34m(\u001b[0m\u001b[0;34mr'/Users/MacBookPro/Desktop/Real_Madrid/chromedriver'\u001b[0m\u001b[0;34m)\u001b[0m\u001b[0;34m\u001b[0m\u001b[0m\n\u001b[1;32m     23\u001b[0m                 \u001b[0mwait\u001b[0m \u001b[0;34m=\u001b[0m \u001b[0mWebDriverWait\u001b[0m\u001b[0;34m(\u001b[0m\u001b[0mbrowser\u001b[0m\u001b[0;34m,\u001b[0m \u001b[0;36m10\u001b[0m\u001b[0;34m)\u001b[0m\u001b[0;34m\u001b[0m\u001b[0m\n\u001b[0;32m---> 24\u001b[0;31m                 \u001b[0mbrowser\u001b[0m\u001b[0;34m.\u001b[0m\u001b[0mget\u001b[0m\u001b[0;34m(\u001b[0m\u001b[0mlink\u001b[0m\u001b[0;34m)\u001b[0m\u001b[0;34m\u001b[0m\u001b[0m\n\u001b[0m\u001b[1;32m     25\u001b[0m                 \u001b[0melements\u001b[0m \u001b[0;34m=\u001b[0m \u001b[0mbrowser\u001b[0m\u001b[0;34m.\u001b[0m\u001b[0mfind_element_by_css_selector\u001b[0m\u001b[0;34m(\u001b[0m\u001b[0;34m\"#external-embed\"\u001b[0m\u001b[0;34m)\u001b[0m\u001b[0;34m.\u001b[0m\u001b[0mget_attribute\u001b[0m\u001b[0;34m(\u001b[0m\u001b[0;34m\"src\"\u001b[0m\u001b[0;34m)\u001b[0m\u001b[0;34m\u001b[0m\u001b[0m\n\u001b[1;32m     26\u001b[0m                 \u001b[0mfembed_link\u001b[0m \u001b[0;34m=\u001b[0m \u001b[0melements\u001b[0m\u001b[0;34m\u001b[0m\u001b[0m\n",
      "\u001b[0;32m/Applications/anaconda3/lib/python3.6/site-packages/selenium/webdriver/remote/webdriver.py\u001b[0m in \u001b[0;36mget\u001b[0;34m(self, url)\u001b[0m\n\u001b[1;32m    330\u001b[0m         \u001b[0mLoads\u001b[0m \u001b[0ma\u001b[0m \u001b[0mweb\u001b[0m \u001b[0mpage\u001b[0m \u001b[0;32min\u001b[0m \u001b[0mthe\u001b[0m \u001b[0mcurrent\u001b[0m \u001b[0mbrowser\u001b[0m \u001b[0msession\u001b[0m\u001b[0;34m.\u001b[0m\u001b[0;34m\u001b[0m\u001b[0m\n\u001b[1;32m    331\u001b[0m         \"\"\"\n\u001b[0;32m--> 332\u001b[0;31m         \u001b[0mself\u001b[0m\u001b[0;34m.\u001b[0m\u001b[0mexecute\u001b[0m\u001b[0;34m(\u001b[0m\u001b[0mCommand\u001b[0m\u001b[0;34m.\u001b[0m\u001b[0mGET\u001b[0m\u001b[0;34m,\u001b[0m \u001b[0;34m{\u001b[0m\u001b[0;34m'url'\u001b[0m\u001b[0;34m:\u001b[0m \u001b[0murl\u001b[0m\u001b[0;34m}\u001b[0m\u001b[0;34m)\u001b[0m\u001b[0;34m\u001b[0m\u001b[0m\n\u001b[0m\u001b[1;32m    333\u001b[0m \u001b[0;34m\u001b[0m\u001b[0m\n\u001b[1;32m    334\u001b[0m     \u001b[0;34m@\u001b[0m\u001b[0mproperty\u001b[0m\u001b[0;34m\u001b[0m\u001b[0m\n",
      "\u001b[0;32m/Applications/anaconda3/lib/python3.6/site-packages/selenium/webdriver/remote/webdriver.py\u001b[0m in \u001b[0;36mexecute\u001b[0;34m(self, driver_command, params)\u001b[0m\n\u001b[1;32m    316\u001b[0m \u001b[0;34m\u001b[0m\u001b[0m\n\u001b[1;32m    317\u001b[0m         \u001b[0mparams\u001b[0m \u001b[0;34m=\u001b[0m \u001b[0mself\u001b[0m\u001b[0;34m.\u001b[0m\u001b[0m_wrap_value\u001b[0m\u001b[0;34m(\u001b[0m\u001b[0mparams\u001b[0m\u001b[0;34m)\u001b[0m\u001b[0;34m\u001b[0m\u001b[0m\n\u001b[0;32m--> 318\u001b[0;31m         \u001b[0mresponse\u001b[0m \u001b[0;34m=\u001b[0m \u001b[0mself\u001b[0m\u001b[0;34m.\u001b[0m\u001b[0mcommand_executor\u001b[0m\u001b[0;34m.\u001b[0m\u001b[0mexecute\u001b[0m\u001b[0;34m(\u001b[0m\u001b[0mdriver_command\u001b[0m\u001b[0;34m,\u001b[0m \u001b[0mparams\u001b[0m\u001b[0;34m)\u001b[0m\u001b[0;34m\u001b[0m\u001b[0m\n\u001b[0m\u001b[1;32m    319\u001b[0m         \u001b[0;32mif\u001b[0m \u001b[0mresponse\u001b[0m\u001b[0;34m:\u001b[0m\u001b[0;34m\u001b[0m\u001b[0m\n\u001b[1;32m    320\u001b[0m             \u001b[0mself\u001b[0m\u001b[0;34m.\u001b[0m\u001b[0merror_handler\u001b[0m\u001b[0;34m.\u001b[0m\u001b[0mcheck_response\u001b[0m\u001b[0;34m(\u001b[0m\u001b[0mresponse\u001b[0m\u001b[0;34m)\u001b[0m\u001b[0;34m\u001b[0m\u001b[0m\n",
      "\u001b[0;32m/Applications/anaconda3/lib/python3.6/site-packages/selenium/webdriver/remote/remote_connection.py\u001b[0m in \u001b[0;36mexecute\u001b[0;34m(self, command, params)\u001b[0m\n\u001b[1;32m    470\u001b[0m         \u001b[0mdata\u001b[0m \u001b[0;34m=\u001b[0m \u001b[0mutils\u001b[0m\u001b[0;34m.\u001b[0m\u001b[0mdump_json\u001b[0m\u001b[0;34m(\u001b[0m\u001b[0mparams\u001b[0m\u001b[0;34m)\u001b[0m\u001b[0;34m\u001b[0m\u001b[0m\n\u001b[1;32m    471\u001b[0m         \u001b[0murl\u001b[0m \u001b[0;34m=\u001b[0m \u001b[0;34m'%s%s'\u001b[0m \u001b[0;34m%\u001b[0m \u001b[0;34m(\u001b[0m\u001b[0mself\u001b[0m\u001b[0;34m.\u001b[0m\u001b[0m_url\u001b[0m\u001b[0;34m,\u001b[0m \u001b[0mpath\u001b[0m\u001b[0;34m)\u001b[0m\u001b[0;34m\u001b[0m\u001b[0m\n\u001b[0;32m--> 472\u001b[0;31m         \u001b[0;32mreturn\u001b[0m \u001b[0mself\u001b[0m\u001b[0;34m.\u001b[0m\u001b[0m_request\u001b[0m\u001b[0;34m(\u001b[0m\u001b[0mcommand_info\u001b[0m\u001b[0;34m[\u001b[0m\u001b[0;36m0\u001b[0m\u001b[0;34m]\u001b[0m\u001b[0;34m,\u001b[0m \u001b[0murl\u001b[0m\u001b[0;34m,\u001b[0m \u001b[0mbody\u001b[0m\u001b[0;34m=\u001b[0m\u001b[0mdata\u001b[0m\u001b[0;34m)\u001b[0m\u001b[0;34m\u001b[0m\u001b[0m\n\u001b[0m\u001b[1;32m    473\u001b[0m \u001b[0;34m\u001b[0m\u001b[0m\n\u001b[1;32m    474\u001b[0m     \u001b[0;32mdef\u001b[0m \u001b[0m_request\u001b[0m\u001b[0;34m(\u001b[0m\u001b[0mself\u001b[0m\u001b[0;34m,\u001b[0m \u001b[0mmethod\u001b[0m\u001b[0;34m,\u001b[0m \u001b[0murl\u001b[0m\u001b[0;34m,\u001b[0m \u001b[0mbody\u001b[0m\u001b[0;34m=\u001b[0m\u001b[0;32mNone\u001b[0m\u001b[0;34m)\u001b[0m\u001b[0;34m:\u001b[0m\u001b[0;34m\u001b[0m\u001b[0m\n",
      "\u001b[0;32m/Applications/anaconda3/lib/python3.6/site-packages/selenium/webdriver/remote/remote_connection.py\u001b[0m in \u001b[0;36m_request\u001b[0;34m(self, method, url, body)\u001b[0m\n\u001b[1;32m    494\u001b[0m             \u001b[0;32mtry\u001b[0m\u001b[0;34m:\u001b[0m\u001b[0;34m\u001b[0m\u001b[0m\n\u001b[1;32m    495\u001b[0m                 \u001b[0mself\u001b[0m\u001b[0;34m.\u001b[0m\u001b[0m_conn\u001b[0m\u001b[0;34m.\u001b[0m\u001b[0mrequest\u001b[0m\u001b[0;34m(\u001b[0m\u001b[0mmethod\u001b[0m\u001b[0;34m,\u001b[0m \u001b[0mparsed_url\u001b[0m\u001b[0;34m.\u001b[0m\u001b[0mpath\u001b[0m\u001b[0;34m,\u001b[0m \u001b[0mbody\u001b[0m\u001b[0;34m,\u001b[0m \u001b[0mheaders\u001b[0m\u001b[0;34m)\u001b[0m\u001b[0;34m\u001b[0m\u001b[0m\n\u001b[0;32m--> 496\u001b[0;31m                 \u001b[0mresp\u001b[0m \u001b[0;34m=\u001b[0m \u001b[0mself\u001b[0m\u001b[0;34m.\u001b[0m\u001b[0m_conn\u001b[0m\u001b[0;34m.\u001b[0m\u001b[0mgetresponse\u001b[0m\u001b[0;34m(\u001b[0m\u001b[0;34m)\u001b[0m\u001b[0;34m\u001b[0m\u001b[0m\n\u001b[0m\u001b[1;32m    497\u001b[0m             \u001b[0;32mexcept\u001b[0m \u001b[0;34m(\u001b[0m\u001b[0mhttplib\u001b[0m\u001b[0;34m.\u001b[0m\u001b[0mHTTPException\u001b[0m\u001b[0;34m,\u001b[0m \u001b[0msocket\u001b[0m\u001b[0;34m.\u001b[0m\u001b[0merror\u001b[0m\u001b[0;34m)\u001b[0m\u001b[0;34m:\u001b[0m\u001b[0;34m\u001b[0m\u001b[0m\n\u001b[1;32m    498\u001b[0m                 \u001b[0mself\u001b[0m\u001b[0;34m.\u001b[0m\u001b[0m_conn\u001b[0m\u001b[0;34m.\u001b[0m\u001b[0mclose\u001b[0m\u001b[0;34m(\u001b[0m\u001b[0;34m)\u001b[0m\u001b[0;34m\u001b[0m\u001b[0m\n",
      "\u001b[0;32m/Applications/anaconda3/lib/python3.6/http/client.py\u001b[0m in \u001b[0;36mgetresponse\u001b[0;34m(self)\u001b[0m\n\u001b[1;32m   1329\u001b[0m         \u001b[0;32mtry\u001b[0m\u001b[0;34m:\u001b[0m\u001b[0;34m\u001b[0m\u001b[0m\n\u001b[1;32m   1330\u001b[0m             \u001b[0;32mtry\u001b[0m\u001b[0;34m:\u001b[0m\u001b[0;34m\u001b[0m\u001b[0m\n\u001b[0;32m-> 1331\u001b[0;31m                 \u001b[0mresponse\u001b[0m\u001b[0;34m.\u001b[0m\u001b[0mbegin\u001b[0m\u001b[0;34m(\u001b[0m\u001b[0;34m)\u001b[0m\u001b[0;34m\u001b[0m\u001b[0m\n\u001b[0m\u001b[1;32m   1332\u001b[0m             \u001b[0;32mexcept\u001b[0m \u001b[0mConnectionError\u001b[0m\u001b[0;34m:\u001b[0m\u001b[0;34m\u001b[0m\u001b[0m\n\u001b[1;32m   1333\u001b[0m                 \u001b[0mself\u001b[0m\u001b[0;34m.\u001b[0m\u001b[0mclose\u001b[0m\u001b[0;34m(\u001b[0m\u001b[0;34m)\u001b[0m\u001b[0;34m\u001b[0m\u001b[0m\n",
      "\u001b[0;32m/Applications/anaconda3/lib/python3.6/http/client.py\u001b[0m in \u001b[0;36mbegin\u001b[0;34m(self)\u001b[0m\n\u001b[1;32m    295\u001b[0m         \u001b[0;31m# read until we get a non-100 response\u001b[0m\u001b[0;34m\u001b[0m\u001b[0;34m\u001b[0m\u001b[0m\n\u001b[1;32m    296\u001b[0m         \u001b[0;32mwhile\u001b[0m \u001b[0;32mTrue\u001b[0m\u001b[0;34m:\u001b[0m\u001b[0;34m\u001b[0m\u001b[0m\n\u001b[0;32m--> 297\u001b[0;31m             \u001b[0mversion\u001b[0m\u001b[0;34m,\u001b[0m \u001b[0mstatus\u001b[0m\u001b[0;34m,\u001b[0m \u001b[0mreason\u001b[0m \u001b[0;34m=\u001b[0m \u001b[0mself\u001b[0m\u001b[0;34m.\u001b[0m\u001b[0m_read_status\u001b[0m\u001b[0;34m(\u001b[0m\u001b[0;34m)\u001b[0m\u001b[0;34m\u001b[0m\u001b[0m\n\u001b[0m\u001b[1;32m    298\u001b[0m             \u001b[0;32mif\u001b[0m \u001b[0mstatus\u001b[0m \u001b[0;34m!=\u001b[0m \u001b[0mCONTINUE\u001b[0m\u001b[0;34m:\u001b[0m\u001b[0;34m\u001b[0m\u001b[0m\n\u001b[1;32m    299\u001b[0m                 \u001b[0;32mbreak\u001b[0m\u001b[0;34m\u001b[0m\u001b[0m\n",
      "\u001b[0;32m/Applications/anaconda3/lib/python3.6/http/client.py\u001b[0m in \u001b[0;36m_read_status\u001b[0;34m(self)\u001b[0m\n\u001b[1;32m    256\u001b[0m \u001b[0;34m\u001b[0m\u001b[0m\n\u001b[1;32m    257\u001b[0m     \u001b[0;32mdef\u001b[0m \u001b[0m_read_status\u001b[0m\u001b[0;34m(\u001b[0m\u001b[0mself\u001b[0m\u001b[0;34m)\u001b[0m\u001b[0;34m:\u001b[0m\u001b[0;34m\u001b[0m\u001b[0m\n\u001b[0;32m--> 258\u001b[0;31m         \u001b[0mline\u001b[0m \u001b[0;34m=\u001b[0m \u001b[0mstr\u001b[0m\u001b[0;34m(\u001b[0m\u001b[0mself\u001b[0m\u001b[0;34m.\u001b[0m\u001b[0mfp\u001b[0m\u001b[0;34m.\u001b[0m\u001b[0mreadline\u001b[0m\u001b[0;34m(\u001b[0m\u001b[0m_MAXLINE\u001b[0m \u001b[0;34m+\u001b[0m \u001b[0;36m1\u001b[0m\u001b[0;34m)\u001b[0m\u001b[0;34m,\u001b[0m \u001b[0;34m\"iso-8859-1\"\u001b[0m\u001b[0;34m)\u001b[0m\u001b[0;34m\u001b[0m\u001b[0m\n\u001b[0m\u001b[1;32m    259\u001b[0m         \u001b[0;32mif\u001b[0m \u001b[0mlen\u001b[0m\u001b[0;34m(\u001b[0m\u001b[0mline\u001b[0m\u001b[0;34m)\u001b[0m \u001b[0;34m>\u001b[0m \u001b[0m_MAXLINE\u001b[0m\u001b[0;34m:\u001b[0m\u001b[0;34m\u001b[0m\u001b[0m\n\u001b[1;32m    260\u001b[0m             \u001b[0;32mraise\u001b[0m \u001b[0mLineTooLong\u001b[0m\u001b[0;34m(\u001b[0m\u001b[0;34m\"status line\"\u001b[0m\u001b[0;34m)\u001b[0m\u001b[0;34m\u001b[0m\u001b[0m\n",
      "\u001b[0;32m/Applications/anaconda3/lib/python3.6/socket.py\u001b[0m in \u001b[0;36mreadinto\u001b[0;34m(self, b)\u001b[0m\n\u001b[1;32m    584\u001b[0m         \u001b[0;32mwhile\u001b[0m \u001b[0;32mTrue\u001b[0m\u001b[0;34m:\u001b[0m\u001b[0;34m\u001b[0m\u001b[0m\n\u001b[1;32m    585\u001b[0m             \u001b[0;32mtry\u001b[0m\u001b[0;34m:\u001b[0m\u001b[0;34m\u001b[0m\u001b[0m\n\u001b[0;32m--> 586\u001b[0;31m                 \u001b[0;32mreturn\u001b[0m \u001b[0mself\u001b[0m\u001b[0;34m.\u001b[0m\u001b[0m_sock\u001b[0m\u001b[0;34m.\u001b[0m\u001b[0mrecv_into\u001b[0m\u001b[0;34m(\u001b[0m\u001b[0mb\u001b[0m\u001b[0;34m)\u001b[0m\u001b[0;34m\u001b[0m\u001b[0m\n\u001b[0m\u001b[1;32m    587\u001b[0m             \u001b[0;32mexcept\u001b[0m \u001b[0mtimeout\u001b[0m\u001b[0;34m:\u001b[0m\u001b[0;34m\u001b[0m\u001b[0m\n\u001b[1;32m    588\u001b[0m                 \u001b[0mself\u001b[0m\u001b[0;34m.\u001b[0m\u001b[0m_timeout_occurred\u001b[0m \u001b[0;34m=\u001b[0m \u001b[0;32mTrue\u001b[0m\u001b[0;34m\u001b[0m\u001b[0m\n",
      "\u001b[0;31mKeyboardInterrupt\u001b[0m: "
     ]
    }
   ],
   "source": [
    "for page in range (total_number_result_page):\n",
    "    if page > 12:\n",
    "        url = \"https://www.javqd.com/search/movie/\"+ search_criteria +\"/page-\" + str(page)+\".html\"\n",
    "        web= requests.get(url)\n",
    "        content = web.content\n",
    "        full_search_return = soup(content, \"html.parser\")\n",
    "        video_content_list = full_search_return.find_all(\"div\", {\"class\":\"col-lg-3 col-md-4 col-sm-6 videoitem\"})\n",
    "        total_num_dis_page = 32\n",
    "        total_number_result_page = full_search_return.find(\"div\", {\"class\": \"col-xs-12 border\"}).text.split(' ')[1]\n",
    "        total_number_result_page = int (int(total_number_result_page)/total_num_dis_page)\n",
    "        total_number_result_page\n",
    "        try:\n",
    "            for video in range (total_num_dis_page):\n",
    "                link_video_main_page = str(video_content_list[video].find(\"a\")).split('\"')[1]\n",
    "                link_video_main_page = \"https://www.javqd.com\" + link_video_main_page\n",
    "                #print (link_video_main_page)\n",
    "                web_main_page = requests.get(link_video_main_page)\n",
    "                content_main_page = web_main_page.content\n",
    "                content_parsed = soup(content_main_page, \"html.parser\")\n",
    "                link = str(content_parsed.find(\"textarea\" ,{\"class\":\"select-all\"})).split('\"')[13]\n",
    "                #print (link)\n",
    "                browser = webdriver.Chrome(r'/Users/MacBookPro/Desktop/Real_Madrid/chromedriver')\n",
    "                wait = WebDriverWait(browser, 10)\n",
    "                browser.get(link)\n",
    "                elements = browser.find_element_by_css_selector(\"#external-embed\").get_attribute(\"src\")\n",
    "                fembed_link = elements\n",
    "                print (fembed_link)\n",
    "                browser.close()\n",
    "                Name_of_video = content_parsed.find(\"h2\", {\"class\":\"info-box-heading\"}).text\n",
    "                #print(Name_of_video)\n",
    "                v_info = content_parsed.find(\"div\", {\"class\": \"tab-content tab-description active\"}).text.lower().split(\"\\n\")\n",
    "\n",
    "                try:\n",
    "                    for item in v_info:\n",
    "                        if item == \"added:\" or item == \"added\":\n",
    "                            index = v_info.index(item)\n",
    "                            date_added = v_info[int(index) + 1]\n",
    "                            #print (date_added)\n",
    "                except Exception as e:\n",
    "                        date_added = \"NaN\"\n",
    "\n",
    "                try:\n",
    "                    for item in v_info:\n",
    "                        if item == \"duration:\" or item == \"duration\":\n",
    "                            index = v_info.index(item)\n",
    "                            duration = v_info[int(index) + 1]\n",
    "                            #print (duration)\n",
    "                except Exception as e:\n",
    "                        duration = \"NaN\"\n",
    "\n",
    "                try:\n",
    "                    for item in v_info:\n",
    "                        if item == \"cast:\" or item == \"cast\":\n",
    "                            index = v_info.index(item)\n",
    "                            cast_name = v_info[int(index) + 1]\n",
    "                            #print (cast_name)\n",
    "                except Exception as e:\n",
    "                        cast_name = \"NaN\"\n",
    "\n",
    "                try:\n",
    "                    for item in v_info:\n",
    "                        if item == \"category:\" or item == \"category\":\n",
    "                            index = v_info.index(item)\n",
    "                            category = v_info[int(index) + 1]\n",
    "                            #print (category)\n",
    "                except Exception as e:\n",
    "                        category = \"NaN\"\n",
    "\n",
    "                try:\n",
    "                    for item in v_info:\n",
    "                        if item == \"description:\" or item == \"description\":\n",
    "                            index = v_info.index(item)\n",
    "                            description = str(v_info[int(index) + 1])\n",
    "                            #print (description)\n",
    "                except Exception as e:\n",
    "                        description = \"NaN\"\n",
    "\n",
    "                try:\n",
    "                    for item in v_info:\n",
    "                        if item == \"tags:\" or item == \"tags\":\n",
    "                            index = v_info.index(item)\n",
    "                            tags = v_info[int(index) + 1: len(v_info)]\n",
    "                            #print (tags)\n",
    "                except Exception as e:\n",
    "                        Tags = \"NaN\"\n",
    "\n",
    "\n",
    "                database.insert(Name_of_video , search_criteria , date_added , duration , cast_name , category , description , tags , fembed_link)\n",
    "        except Exception as e:\n",
    "            continue\n",
    "    else:\n",
    "        page = page + 1\n",
    "        print(page)"
   ]
  },
  {
   "cell_type": "code",
   "execution_count": 36,
   "metadata": {},
   "outputs": [],
   "source": [
    "data = pd.DataFrame(database.view(), columns = [\"Name_of_video\",\"Date_added\", \"Duration\",\"cast_name\",\"Category\", \"Description\", \"Tags\", \"search_criteria\", \"Fembed_Link\"])"
   ]
  },
  {
   "cell_type": "code",
   "execution_count": 39,
   "metadata": {},
   "outputs": [
    {
     "data": {
      "text/plain": [
       "'FHD-SkyuShiroto-SUPA-340-I-Want-You-To-Be-Inserted-Cum-Inside-SEX-Best-4-Hour-With-Horny-Amateur-Girls-Admitting-Insert-Yourself'"
      ]
     },
     "execution_count": 39,
     "metadata": {},
     "output_type": "execute_result"
    }
   ],
   "source": [
    "data[\"Name_of_video\"][0].replace(\" \", \"-\")"
   ]
  },
  {
   "cell_type": "code",
   "execution_count": 105,
   "metadata": {},
   "outputs": [
    {
     "name": "stdout",
     "output_type": "stream",
     "text": [
      "\"https://jqd.cdn-qdnetwork.com/img/movie/20180707/fhd-skyushiroto-supa-340-i-want-you-to-be-inserted-cum-inside-sex-best-4-hour-with-horny-amateur-girls-admitting-insert-yourself_1530929826.png\"\n",
      "            }\n",
      "        }\n",
      "    ]\n",
      "}\n",
      "\"https://jqd.cdn-qdnetwork.com/img/movie/20180629/fhd-s-cute-sqte-215-horny-desire-of-a-pheromone-girl-who-puts-a-fire-on-a-cockroach_1530235924.png\"\n",
      "            }\n",
      "        }\n",
      "    ]\n",
      "}\n",
      "\"https://jqd.cdn-qdnetwork.com/img/movie/20180618/fhd-s-cute-sqte-213-that-beautiful-girl-sensitive-horny-ecology-of-a-girl-who-does-not-stop-pleasure_1529289790.png\"\n",
      "            }\n",
      "        }\n",
      "    ]\n",
      "}\n",
      "\"https://jqd.cdn-qdnetwork.com/img/movie/20180522/fhd-s-cute-sqte-210-i-made-a-gonzo-picture-of-my-favorite-canojo-beautiful-girls-horny-looks-like-a-close-friend-icha-cha-play_1526976810.png\"\n",
      "            }\n",
      "        }\n",
      "    ]\n",
      "}\n",
      "\"https://jqd.cdn-qdnetwork.com/img/movie/20180518/heydouga-4037-ppv381-nanao-gachin-girls-nana-horny-everyday-123_1526652720.png\"\n",
      "            }\n",
      "        }\n",
      "    ]\n",
      "}\n"
     ]
    }
   ],
   "source": [
    "#code to get thumbnail image on javqd.com\n",
    "for video in range(0, 5) :   \n",
    "    url = \"https://www.javqd.com/movie/\"+ data[\"Name_of_video\"][video].replace(\" \", \"-\").replace(\",\", \"\").replace(\".\", \"-\")\n",
    "    #print (url)\n",
    "    web= requests.get(url)\n",
    "    content = web.content\n",
    "    res = soup(content, \"html.parser\")\n",
    "    res = res.find_all(\"script\", {\"type\": \"application/ld+json\"})[2].text\n",
    "    res = res.split('\"image\": ')[-1].rstrip(\"\\n\")\n",
    "    print(res)\n",
    "    "
   ]
  },
  {
   "cell_type": "markdown",
   "metadata": {},
   "source": [
    "=========================================Final Link to download video================================================="
   ]
  },
  {
   "cell_type": "markdown",
   "metadata": {
    "collapsed": true
   },
   "source": [
    "###final link needed for downloading\n",
    "browser = webdriver.Chrome(r'/Users/MacBookPro/Desktop/Real_Madrid/chromedriver')\n",
    "wait = WebDriverWait(browser, 10)\n",
    "browser.get(elements)\n",
    "elements = browser.find_element_by_css_selector(\"video\").get_attribute(\"src\")\n",
    "print (elements)\n",
    "browser.close()"
   ]
  },
  {
   "cell_type": "markdown",
   "metadata": {
    "collapsed": true
   },
   "source": [
    "download_file(elements)"
   ]
  },
  {
   "cell_type": "markdown",
   "metadata": {},
   "source": [
    "===========================================West(yourporn.sexy)================================================="
   ]
  },
  {
   "cell_type": "markdown",
   "metadata": {
    "collapsed": true
   },
   "source": [
    "#get full website\n",
    "web = requests.get(\"https://yourporn.sexy/sexy-CHINESE-GIRL.html\")\n",
    "content = web.content\n",
    "full_content = soup(content, \"html.parser\")\n",
    "content_1 = full_content.find_all(\"div\", {\"class\" : \"post_el_small\"})"
   ]
  },
  {
   "cell_type": "markdown",
   "metadata": {
    "collapsed": true
   },
   "source": [
    "#get prelink\n",
    "view_1 = content_1[0].find_all(\"a\")\n",
    "prelink = \"\"\n",
    "count= 0\n",
    "for links in view_1:\n",
    "    if count == 0:\n",
    "        string = str(links)\n",
    "        if \"post\" in string:\n",
    "            prelink = string\n",
    "            #print(prelink)\n",
    "            count +=1"
   ]
  },
  {
   "cell_type": "markdown",
   "metadata": {
    "collapsed": true
   },
   "source": [
    "#https://s12-1.trafficdeposit.com/bvideo/OveI6-OWRtcnl2JyZx29Fg/1531539661/5a0b5ff2d94da/5a84e8b3790a5.mp4"
   ]
  },
  {
   "cell_type": "markdown",
   "metadata": {
    "collapsed": true,
    "scrolled": true
   },
   "source": [
    "#get link for video\n",
    "prelink = prelink.split()\n",
    "link = prelink[1]\n",
    "link = link[6:len(link) - 6]"
   ]
  },
  {
   "cell_type": "markdown",
   "metadata": {},
   "source": [
    "link = \"https://yourporn.sexy\"+link\n",
    "link"
   ]
  },
  {
   "cell_type": "markdown",
   "metadata": {
    "collapsed": true
   },
   "source": [
    "web_2 = requests.get(\"https://yourporn.sexy/post/5a84e8b3790a5.html?sk=sexy-CHINESE-GIRL&amp;so=0&amp;ss=latest\")\n",
    "content_2 = web_2.content\n",
    "full_content_1 = soup(content_2, \"html.parser\")"
   ]
  },
  {
   "cell_type": "markdown",
   "metadata": {},
   "source": [
    "#get all the sub_directiorys\n",
    "\n",
    "\"https://s12-1.trafficdeposit.com/bvideo/uCPg0lLvdc4mRUHDttbb-Q/1531585511/5a0b5ff2d94da/5a84e8b3790a5.mp4\"\n",
    "\"https://con1.trafficdeposit.com/bvideo/con2/con3/con4/con5.mp4\"\n",
    "\n",
    "token = full_content_1.find_all(\"span\",  {\"class\":\"vidsnfo\"})\n",
    "con1 = str(token).split(\"/\")[2][:-1]\n",
    "con2 = str(token).split(\"/\")[3][:-1]\n",
    "con3 = str(token).split(\"/\")[4][:-1]\n",
    "con5 = str(token).split('\"')[3]\n",
    "token_1 = full_content_1.find_all(\"div\", {\"class\":\"pes_author_div pes_edit_div transition\"})\n",
    "con4 = str(token_1).split('\"')[3]\n",
    "print(con1, con2, con3, con4, con5)\n",
    "final_link = \"https://\"+con1+\".trafficdeposit.com/bvideo/\"+con2+\"/\"+con3+\"/\"+con4+\"/\"+con5+\".mp4\"\n",
    "print (final_link)"
   ]
  },
  {
   "cell_type": "markdown",
   "metadata": {},
   "source": [
    "download_file(final_link)"
   ]
  },
  {
   "cell_type": "markdown",
   "metadata": {},
   "source": [
    "==========================================================================================================="
   ]
  },
  {
   "cell_type": "code",
   "execution_count": 31,
   "metadata": {},
   "outputs": [],
   "source": [
    "from selenium import webdriver\n",
    "from selenium.webdriver.common.by import By\n",
    "from selenium.webdriver.support.ui import WebDriverWait\n",
    "from selenium.webdriver.support import expected_conditions as EC\n",
    "from selenium.webdriver.chrome.options import Options\n",
    "from selenium.webdriver import DesiredCapabilities\n",
    "import json\n",
    "from collections import OrderedDict\n",
    "import re\n",
    "import ast"
   ]
  },
  {
   "cell_type": "code",
   "execution_count": null,
   "metadata": {},
   "outputs": [],
   "source": [
    "#python performance review code by jacob and tom\n",
    "\n",
    "chrome_options = Options()\n",
    "chrome_options.add_argument(\"--headless\")\n",
    "caps = DesiredCapabilities.CHROME\n",
    "caps[\"loggingPrefs\"] = {\"performance\": \"ALL\"}\n",
    "browser = webdriver.Chrome(chrome_options=chrome_options, desired_capabilities= caps, executable_path = r'/Users/MacBookPro/Desktop/Real_Madrid/chromedriver')\n",
    "wait = WebDriverWait(browser, 10)\n",
    "browser.get(\"https://www5.javfinder.is/category/teacher\")\n",
    "for i in browser.get_log(\"performance\"):\n",
    "    print(i)"
   ]
  },
  {
   "cell_type": "code",
   "execution_count": null,
   "metadata": {},
   "outputs": [],
   "source": [
    "#code to get fembedlink\n",
    "\n",
    "fembed_link = []\n",
    "caps = DesiredCapabilities.CHROME\n",
    "caps[\"loggingPrefs\"] = {\"performance\": \"ALL\"}\n",
    "browser = webdriver.Chrome(chrome_options=chrome_options, desired_capabilities= caps, executable_path = r'/Users/MacBookPro/Desktop/Real_Madrid/chromedriver')\n",
    "wait = WebDriverWait(browser, 10)\n",
    "browser.get(\"https://yourporn.sexy/post/5a84e8b3790a5.html?sk=sexy-CHINESE-GIRL&amp;so=0&amp;ss=latest\")\n",
    "for i in browser.get_log(\"performance\"):\n",
    "    for j in json.loads(i[\"message\"]).values():\n",
    "        if  type(j) == dict :\n",
    "            for z in j[\"params\"].values():\n",
    "                if  type(z) == dict :\n",
    "                    for y in z:\n",
    "                        if y == \"url\":\n",
    "                            #if \"embed.com\" in z[y]:\n",
    "                            fembed_link.append(z[y])\n",
    "#fembed_link = fembed_link[0]  \n",
    "fembed_link"
   ]
  },
  {
   "cell_type": "code",
   "execution_count": 336,
   "metadata": {},
   "outputs": [],
   "source": [
    "browser = webdriver.Chrome(chrome_options=chrome_options, executable_path = r'/Users/MacBookPro/Desktop/Real_Madrid/chromedriver')\n",
    "wait = WebDriverWait(browser, 10)\n",
    "browser.get(\"https://www5.javfinder.is/movie/watch/fhd-hodv-21315-my-sister-is-friend-who-shows-innocently-while-trying-on-a-swimwear-in-our-living-room-i-got-an-erection-witnessing-the-swimsuit-butt.html\")\n",
    "elements = browser.find_element_by_css_selector(\".col-md-5\").find_element_by_xpath(\"img\").get_attribute(\"src\")"
   ]
  },
  {
   "cell_type": "code",
   "execution_count": 337,
   "metadata": {},
   "outputs": [
    {
     "data": {
      "text/plain": [
       "'https://images1-focus-opensocial.googleusercontent.com/gadgets/proxy?container=focus&url=https://cdnfd.me/img/movie/20180808/fhd-hodv-21315-my-sister-is-friend-who-shows-innocently-while-trying-on-a-swimwear-in-our-living-room-i-got-an-erection-witnessing-the-swimsuit-butt_1533695752.png'"
      ]
     },
     "execution_count": 337,
     "metadata": {},
     "output_type": "execute_result"
    }
   ],
   "source": [
    "elements"
   ]
  },
  {
   "cell_type": "markdown",
   "metadata": {},
   "source": [
    "============================================New Code for Javfinder =================================================="
   ]
  },
  {
   "cell_type": "code",
   "execution_count": 33,
   "metadata": {},
   "outputs": [
    {
     "name": "stderr",
     "output_type": "stream",
     "text": [
      "/Applications/anaconda3/lib/python3.6/site-packages/psycopg2/__init__.py:144: UserWarning: The psycopg2 wheel package will be renamed from release 2.8; in order to keep installing from binary please use \"pip install psycopg2-binary\" instead. For details see: <http://initd.org/psycopg/docs/install.html#binary-install-from-pypi>.\n",
      "  \"\"\")\n"
     ]
    }
   ],
   "source": [
    "from selenium import webdriver\n",
    "from selenium.webdriver.common.by import By\n",
    "from selenium.webdriver.support.ui import WebDriverWait\n",
    "from selenium.webdriver.support import expected_conditions as EC\n",
    "from selenium.webdriver.chrome.options import Options\n",
    "from selenium.webdriver import DesiredCapabilities\n",
    "import json\n",
    "from collections import OrderedDict\n",
    "import re\n",
    "import ast\n",
    "import requests \n",
    "import pandas as pd\n",
    "from requests import exceptions\n",
    "from bs4 import BeautifulSoup as soup\n",
    "from selenium import webdriver\n",
    "from selenium.webdriver.common.by import By\n",
    "from selenium.webdriver.support.ui import WebDriverWait\n",
    "from selenium.webdriver.support import expected_conditions as EC\n",
    "import argparse\n",
    "import os\n",
    "import sys\n",
    "import psycopg2\n",
    "import MySQLdb"
   ]
  },
  {
   "cell_type": "code",
   "execution_count": 34,
   "metadata": {},
   "outputs": [
    {
     "name": "stdout",
     "output_type": "stream",
     "text": [
      "https://www.javfinder.is/search/movie/beautiful-girl/page-1.html\n",
      "19\n"
     ]
    }
   ],
   "source": [
    "search_criteria = \"beautiful-girl\" #put '-' instead of space\n",
    "url = \"https://www.javfinder.is/search/movie/\"+ search_criteria +\"/page-1.html\"\n",
    "print (url)\n",
    "web= requests.get(url)\n",
    "content = web.content\n",
    "full_search_return = soup(content, \"html.parser\")\n",
    "video_content_list = full_search_return.find_all(\"div\", {\"class\":\"col-md-3 text-center main-item\"})\n",
    "total_num_dis_page = 32\n",
    "total_number_result_page = full_search_return.find(\"div\", {\"class\": \"col-xs-12 border\"}).text.split(' ')[1]\n",
    "total_number_result_page = int (int(total_number_result_page)/total_num_dis_page)\n",
    "total_number_result_page\n",
    "if total_number_result_page ==  0:\n",
    "    total_number_result_page = 1\n",
    "print(total_number_result_page)"
   ]
  },
  {
   "cell_type": "code",
   "execution_count": 163,
   "metadata": {},
   "outputs": [
    {
     "name": "stdout",
     "output_type": "stream",
     "text": [
      "https://images1-focus-opensocial.googleusercontent.com/gadgets/proxy?container=focus&url=https://cdnfd.me/img/movie/20180810/momotaroeizo-ymdd-135-miraculous-beautiful-girl-run-min-mini-av-debut-from-the-taiwan-where-the-local-girl-excavated-and-the-team-will-go_1533886435.png\n",
      "https://qdembed.com/v/4lv0gk2kxoq\n",
      "MomotaroEizo YMDD-135 Miraculous Beautiful Girl, Run Min Mini AV Debut From The Taiwan Where The Local Girl Excavated And The Team Will Go\n",
      "                                                    Aug 10th, 2018                                                \n",
      "Lan Minmei \n",
      "Asian, Beautiful Girl, Big tits, Blowjob, Censored, Cowgirl, Creampie, Cumshot, Cunnilingus, Doggy Style, Fingering, Handjob, Japanese \n",
      "Momotaro Eizo \n",
      "['', 'Watch Jav Online 【Cuteness Explosion! Taiwanese daughter】 There is no man in Japan. I have debuted Min Mai AV! Excavate a young girl from town in Yokohama Chinatown. After inviting Mr. Min Mai (a 21-year-old from Taiwan) who is part-time at Chinatown to date and unwind after a day ... a pure white soft skin, a charming voice that fascinates a man. Beautiful breasts in the scabby body. Dense caress receiving tension and expectation. Pant pants in a slender Japanese. A lovely smell. The first cumulus of conscious and hazy in high speed piston!【かわいさ爆発！台湾娘】日本の男アブないあるね。ミンメイAVデビューしちゃったあるよ！横浜中華街を街ぶらして美少女発掘。中華街でアルバイトをしているミンメイさん（21歳で台湾出身）をデートに誘い、一日心をほぐした後は…純白の柔らかな肌、男を魅了するチャーミングな声。クビレボディに綺麗な乳房。緊張と期待のなか受ける濃厚愛撫。片言な日本語で喘ぎ。いい匂いのする愛液。高速ピストンに意識朦朧の初絶頂！ by Javfinder', '']\n",
      "['', 'Creampie', 'Featured Actress', 'DMM Exclusive', 'Picking Up Girls', 'Beautiful girl', 'Debut', 'Hi-Def', '']\n",
      "===================================\n",
      "https://images1-focus-opensocial.googleusercontent.com/gadgets/proxy?container=focus&url=https://cdnfd.me/img/movie/20180810/prestige-fch-016-new-10-beautiful-girls-are-your-bipedal-blowjob_1533836366.png\n",
      "https://qdembed.com/v/05vlq2pwn96\n",
      "Prestige FCH-016 New 10 beautiful girls are your bipedal blowjob\n",
      "                                                    Aug 10th, 2018                                                \n",
      "Mayu Suzuki, Akari Maijima \n",
      "Amateur, Asian, Beautiful Girl, Big tits, Blowjob, Censored, Cowgirl, Doggy Style, Handjob, Japanese, Masturbate, POV, Shaved Pussy \n",
      "Prestige AV \n",
      "['', \"Watch Jav Online New 10 beautiful girls are your bipedal blowjob! Two people in a dim room! The girls' rough breath is heard, the sounds rubbing Kuchakachi and mucous membranes echoes, the voice that panting pleases when she feels! Deliver super-pleasing hips in subjectivity!新たな10人の美少女たちがあなたのチ●ポを素股コキ！薄暗い部屋で２人っきり！女の子の荒い吐息が聞こえ、クチャクチャと粘膜がこすれ合う音が響きわたり、彼女が感じて喘ぐ声が響き渡る！超気持ちいい素股を主観でお届け！ by Javfinder\", '']\n",
      "['', 'Beautiful girl', 'Cowgirl', 'POV', 'Hi-Def', 'Bipedal Blowjob', 'Dim Room', 'Super-pleasing', '']\n",
      "===================================\n"
     ]
    },
    {
     "ename": "KeyboardInterrupt",
     "evalue": "",
     "output_type": "error",
     "traceback": [
      "\u001b[0;31m---------------------------------------------------------------------------\u001b[0m",
      "\u001b[0;31mKeyboardInterrupt\u001b[0m                         Traceback (most recent call last)",
      "\u001b[0;32m<ipython-input-163-d34a96d06128>\u001b[0m in \u001b[0;36m<module>\u001b[0;34m()\u001b[0m\n\u001b[1;32m     22\u001b[0m             \u001b[0mcaps\u001b[0m \u001b[0;34m=\u001b[0m \u001b[0mDesiredCapabilities\u001b[0m\u001b[0;34m.\u001b[0m\u001b[0mCHROME\u001b[0m\u001b[0;34m\u001b[0m\u001b[0m\n\u001b[1;32m     23\u001b[0m             \u001b[0mcaps\u001b[0m\u001b[0;34m[\u001b[0m\u001b[0;34m\"loggingPrefs\"\u001b[0m\u001b[0;34m]\u001b[0m \u001b[0;34m=\u001b[0m \u001b[0;34m{\u001b[0m\u001b[0;34m\"performance\"\u001b[0m\u001b[0;34m:\u001b[0m \u001b[0;34m\"ALL\"\u001b[0m\u001b[0;34m}\u001b[0m\u001b[0;34m\u001b[0m\u001b[0m\n\u001b[0;32m---> 24\u001b[0;31m             \u001b[0mbrowser\u001b[0m \u001b[0;34m=\u001b[0m \u001b[0mwebdriver\u001b[0m\u001b[0;34m.\u001b[0m\u001b[0mChrome\u001b[0m\u001b[0;34m(\u001b[0m\u001b[0mchrome_options\u001b[0m\u001b[0;34m=\u001b[0m\u001b[0mchrome_options\u001b[0m\u001b[0;34m,\u001b[0m \u001b[0mdesired_capabilities\u001b[0m\u001b[0;34m=\u001b[0m \u001b[0mcaps\u001b[0m\u001b[0;34m,\u001b[0m \u001b[0mexecutable_path\u001b[0m \u001b[0;34m=\u001b[0m \u001b[0;34mr'/Users/MacBookPro/Desktop/Real_Madrid/chromedriver'\u001b[0m\u001b[0;34m)\u001b[0m\u001b[0;34m\u001b[0m\u001b[0m\n\u001b[0m\u001b[1;32m     25\u001b[0m             \u001b[0mwait\u001b[0m \u001b[0;34m=\u001b[0m \u001b[0mWebDriverWait\u001b[0m\u001b[0;34m(\u001b[0m\u001b[0mbrowser\u001b[0m\u001b[0;34m,\u001b[0m \u001b[0;36m5\u001b[0m\u001b[0;34m)\u001b[0m\u001b[0;34m\u001b[0m\u001b[0m\n\u001b[1;32m     26\u001b[0m             \u001b[0mbrowser\u001b[0m\u001b[0;34m.\u001b[0m\u001b[0mget\u001b[0m\u001b[0;34m(\u001b[0m\u001b[0mlink_video_main_page\u001b[0m\u001b[0;34m)\u001b[0m\u001b[0;34m\u001b[0m\u001b[0m\n",
      "\u001b[0;32m/Applications/anaconda3/lib/python3.6/site-packages/selenium/webdriver/chrome/webdriver.py\u001b[0m in \u001b[0;36m__init__\u001b[0;34m(self, executable_path, port, options, service_args, desired_capabilities, service_log_path, chrome_options)\u001b[0m\n\u001b[1;32m     66\u001b[0m             \u001b[0mservice_args\u001b[0m\u001b[0;34m=\u001b[0m\u001b[0mservice_args\u001b[0m\u001b[0;34m,\u001b[0m\u001b[0;34m\u001b[0m\u001b[0m\n\u001b[1;32m     67\u001b[0m             log_path=service_log_path)\n\u001b[0;32m---> 68\u001b[0;31m         \u001b[0mself\u001b[0m\u001b[0;34m.\u001b[0m\u001b[0mservice\u001b[0m\u001b[0;34m.\u001b[0m\u001b[0mstart\u001b[0m\u001b[0;34m(\u001b[0m\u001b[0;34m)\u001b[0m\u001b[0;34m\u001b[0m\u001b[0m\n\u001b[0m\u001b[1;32m     69\u001b[0m \u001b[0;34m\u001b[0m\u001b[0m\n\u001b[1;32m     70\u001b[0m         \u001b[0;32mtry\u001b[0m\u001b[0;34m:\u001b[0m\u001b[0;34m\u001b[0m\u001b[0m\n",
      "\u001b[0;32m/Applications/anaconda3/lib/python3.6/site-packages/selenium/webdriver/common/service.py\u001b[0m in \u001b[0;36mstart\u001b[0;34m(self)\u001b[0m\n\u001b[1;32m    100\u001b[0m                 \u001b[0;32mbreak\u001b[0m\u001b[0;34m\u001b[0m\u001b[0m\n\u001b[1;32m    101\u001b[0m             \u001b[0mcount\u001b[0m \u001b[0;34m+=\u001b[0m \u001b[0;36m1\u001b[0m\u001b[0;34m\u001b[0m\u001b[0m\n\u001b[0;32m--> 102\u001b[0;31m             \u001b[0mtime\u001b[0m\u001b[0;34m.\u001b[0m\u001b[0msleep\u001b[0m\u001b[0;34m(\u001b[0m\u001b[0;36m1\u001b[0m\u001b[0;34m)\u001b[0m\u001b[0;34m\u001b[0m\u001b[0m\n\u001b[0m\u001b[1;32m    103\u001b[0m             \u001b[0;32mif\u001b[0m \u001b[0mcount\u001b[0m \u001b[0;34m==\u001b[0m \u001b[0;36m30\u001b[0m\u001b[0;34m:\u001b[0m\u001b[0;34m\u001b[0m\u001b[0m\n\u001b[1;32m    104\u001b[0m                 \u001b[0;32mraise\u001b[0m \u001b[0mWebDriverException\u001b[0m\u001b[0;34m(\u001b[0m\u001b[0;34m\"Can not connect to the Service %s\"\u001b[0m \u001b[0;34m%\u001b[0m \u001b[0mself\u001b[0m\u001b[0;34m.\u001b[0m\u001b[0mpath\u001b[0m\u001b[0;34m)\u001b[0m\u001b[0;34m\u001b[0m\u001b[0m\n",
      "\u001b[0;31mKeyboardInterrupt\u001b[0m: "
     ]
    }
   ],
   "source": [
    "for page in range (total_number_result_page):\n",
    "    url = \"https://www.javfinder.is/search/movie/\"+ search_criteria +\"/page-\" + str(page)+\".html\"\n",
    "    web= requests.get(url)\n",
    "    content = web.content\n",
    "    full_search_return = soup(content, \"html.parser\")\n",
    "    video_content_list = full_search_return.find_all(\"div\", {\"class\":\"col-md-3 text-center main-item\"})\n",
    "    total_num_dis_page = 32\n",
    "    total_number_result_page = full_search_return.find(\"div\", {\"class\": \"col-xs-12 border\"}).text.split(' ')[1]\n",
    "    total_number_result_page = int (int(total_number_result_page)/total_num_dis_page)\n",
    "    total_number_result_page\n",
    "    try:\n",
    "        for video in range (total_num_dis_page):\n",
    "            link_video_main_page = str(video_content_list[video].find(\"a\")).split('\"')[3]\n",
    "            link_video_main_page = \"https://www.javfinder.is\" + link_video_main_page\n",
    "            #print (link_video_main_page)\n",
    "            web_main_page = requests.get(link_video_main_page)\n",
    "            content_main_page = web_main_page.content\n",
    "            content_parsed = soup(content_main_page, \"html.parser\")\n",
    "            link = str(content_parsed.find(\"textarea\" ,{\"class\":\"select-all\"})).split('\"')[13]\n",
    "            #print (link)\n",
    "            fembed_link_x = []\n",
    "            caps = DesiredCapabilities.CHROME\n",
    "            caps[\"loggingPrefs\"] = {\"performance\": \"ALL\"}\n",
    "            browser = webdriver.Chrome(chrome_options=chrome_options, desired_capabilities= caps, executable_path = r'/Users/MacBookPro/Desktop/Real_Madrid/chromedriver')\n",
    "            wait = WebDriverWait(browser, 5)\n",
    "            browser.get(link_video_main_page)\n",
    "            thumb_img = browser.find_element_by_css_selector(\".col-md-5\").find_element_by_xpath(\"img\").get_attribute(\"src\")\n",
    "            browser.close() \n",
    "            print(thumb_img) #str(content_parsed.find(\"div\", {\"class\": \"wrap-meta\"}).find(\"img\")).split(\"url=\")[1]\n",
    "            browser = webdriver.Chrome(chrome_options=chrome_options, desired_capabilities= caps, executable_path = r'/Users/MacBookPro/Desktop/Real_Madrid/chromedriver')\n",
    "            wait = WebDriverWait(browser, 5)\n",
    "            browser.get(link)\n",
    "            for i in browser.get_log(\"performance\"):\n",
    "                for j in json.loads(i[\"message\"]).values():\n",
    "                    if  type(j) == dict :\n",
    "                        for z in j[\"params\"].values():\n",
    "                            if  type(z) == dict :\n",
    "                                for y in z:\n",
    "                                    if y == \"url\":\n",
    "                                        if \"embed.com\" in z[y]:\n",
    "                                            fembed_link_x.append(z[y])\n",
    "            fembed_link = fembed_link_x[0]  \n",
    "            print (fembed_link)\n",
    "            browser.close()\n",
    "            Name_of_video = content_parsed.find(\"h1\").text\n",
    "            print(Name_of_video)\n",
    "            v_info = content_parsed.find(\"div\", {\"class\": \"wrap-meta\"}).text.split(\"\\n\")\n",
    "            try:\n",
    "                for item in v_info:\n",
    "                    if item == \"Release\" or item == \"Released\":\n",
    "                        index = v_info.index(item)\n",
    "                        date_added = v_info[int(index) + 2]\n",
    "                        print (date_added)\n",
    "            except Exception as e:\n",
    "                    date_added = \"NaN\"\n",
    "            try:\n",
    "                for item in v_info:\n",
    "                    if item == \"meta:\" or item == \"meta\":\n",
    "                        index = v_info.index(item)\n",
    "                        duration = v_info[int(index) + 2].strip().split(\" \")[1]\n",
    "                        print (duration)\n",
    "            except Exception as e:\n",
    "                duration = \"NaN\"\n",
    "\n",
    "            try:\n",
    "                for item in v_info:\n",
    "                    if item == \"Actor:\" or item == \"Actor\":\n",
    "                        index = v_info.index(item)\n",
    "                        cast_name = v_info[int(index) + 2]\n",
    "                        print (cast_name)\n",
    "            except Exception as e:\n",
    "                cast_name = \"NaN\"\n",
    "            try:\n",
    "                for item in v_info:\n",
    "                    if item == \"Genre:\" or item == \"Genre\":\n",
    "                        index = v_info.index(item)\n",
    "                        category = v_info[int(index) + 2]\n",
    "                        print (category)\n",
    "            except Exception as e:\n",
    "                category = \"NaN\"\n",
    "            try:\n",
    "                for item in v_info:\n",
    "                    if item == \"Studio:\" or item == \"Studio\":\n",
    "                        index = v_info.index(item)\n",
    "                        studio = v_info[int(index) + 2]\n",
    "                        print (studio)\n",
    "            except Exception as e:\n",
    "                studio = \"NaN\"\n",
    "            try:\n",
    "                description = content_parsed.find(\"div\", {\"class\": \"main-content\"}).text.split(\"\\n\")\n",
    "                print (description)\n",
    "            except Exception as e:\n",
    "                description = \"NaN\"\n",
    "\n",
    "            try:\n",
    "                tags = content_parsed.find(\"div\", {\"class\": \"wrap-tags clearfix\"}).text.split(\"\\n\")\n",
    "                print (tags)\n",
    "            except Exception as e:\n",
    "                    Tags = \"NaN\"\n",
    "            print (\"===================================\")\n",
    "    except Exception as e:\n",
    "        print(\"=================================\")\n",
    "        continue\n",
    "    "
   ]
  },
  {
   "cell_type": "code",
   "execution_count": 161,
   "metadata": {},
   "outputs": [
    {
     "data": {
      "text/plain": [
       "('FC2 PPV 894185 Insert into the anal pure amateur girl anal! Finally cum shot in a beautiful shaved punk',\n",
       " 'beautiful-girl',\n",
       " '                                                    Aug 8th, 2018                                                ',\n",
       " 'Porn Star ',\n",
       " '69 Style, Amateur, Beautiful Girl, Big Natural Tits, Big tits, Blowjob, College, Cowgirl, Creampie, Doggy Style, Handjob, Uncensored ',\n",
       " ['',\n",
       "  'Watch Jav Online FC2 PPV 894185 Insert into the anal pure amateur girl anal! Finally cum shot in a beautiful shaved punk\\xa0FC2-PPV-894185 清純系素人娘のアナルに挿入！最後は綺麗なパイパンまんこに中出し by Javfinder',\n",
       "  ''],\n",
       " ['',\n",
       "  'Fc2 Ppv 894185',\n",
       "  'Insert',\n",
       "  'Into',\n",
       "  'Anal Pure',\n",
       "  'Amateur Girl',\n",
       "  'Anal',\n",
       "  'Finally',\n",
       "  'Cum Shot',\n",
       "  'Beautiful',\n",
       "  'Shaved Punk',\n",
       "  ''],\n",
       " 'https://qdembed.com/v/05olqqdenv6')"
      ]
     },
     "execution_count": 161,
     "metadata": {},
     "output_type": "execute_result"
    }
   ],
   "source": [
    "Name_of_video , search_criteria , date_added , cast_name , category , description , tags , fembed_link\n"
   ]
  },
  {
   "cell_type": "code",
   "execution_count": 162,
   "metadata": {},
   "outputs": [
    {
     "name": "stdout",
     "output_type": "stream",
     "text": [
      "dbname =  'web_scrapper_db' user= 'postgres' password= 'postgres123' host = 'localhost' port = '5432'\n"
     ]
    },
    {
     "data": {
      "text/plain": [
       "<__main__.database at 0x11513aba8>"
      ]
     },
     "execution_count": 162,
     "metadata": {},
     "output_type": "execute_result"
    }
   ],
   "source": [
    "class database:\n",
    "    def __init__(self, dbname, user, password):\n",
    "        host = \"'localhost'\"\n",
    "        port=\"'5432'\"\n",
    "        db = \"dbname =  '\"+ str(dbname) + \"' user= '\"+str(user)+r\"' password= '\"+str(password) + \"' host = \"+str(host)+\" port = \" + str(port)\n",
    "        db = str(db)\n",
    "        print (db)\n",
    "        #conn = psycopg2.connect(\"dbname = 'web_scrapper_db' user='postgres' password='postgresql123' host = 'localhost' port='5432'\")\n",
    "        conn = psycopg2.connect(db)\n",
    "        cur = conn.cursor()\n",
    "        cur.execute(\"CREATE TABLE IF NOT EXISTS wp_posts (ID integer,post_author text,post_date text,post_date_gmt text, post_content text, post_title text, post_excerpt text, post_status text, comment_status text, ping_status text, post_password text, post_name text, to_ping text, pinged text, post_modified text, post_modified_gmt text, post_content_filtered text, post_parent text, guid text, menu_order text, post_type text, post_mime_type text, comment_count text)\")\n",
    "        cur.execute(\"CREATE TABLE IF NOT EXISTS wp_postsmeta (post_id text, meta_key text, meta_value text)\")\n",
    "        conn.commit()\n",
    "        conn.close()\n",
    "database('web_scrapper_db' , 'postgres', 'postgres123') #pass your credentials in strings like this"
   ]
  },
  {
   "cell_type": "code",
   "execution_count": 513,
   "metadata": {},
   "outputs": [
    {
     "data": {
      "text/plain": [
       "'<iframe src= y width=\"848\" height=\"477\" frameborder=\"0\" allowfullscreen=\"allowfullscreen\"><span data-mce-type=\"bookmark\" style=\"display: inline-block; width: 0px; overflow: hidden; line-height: 0;\" class=\"mce_SELRES_start\">\\ufeff</span></iframe>'"
      ]
     },
     "execution_count": 513,
     "metadata": {},
     "output_type": "execute_result"
    }
   ],
   "source": [
    "post_content = \"\"\"<iframe src= {} width=\"848\" height=\"477\" frameborder=\"0\" allowfullscreen=\"allowfullscreen\"><span data-mce-type=\"bookmark\" style=\"display: inline-block; width: 0px; overflow: hidden; line-height: 0;\" class=\"mce_SELRES_start\">﻿</span></iframe>\"\"\".format(fembed_link) "
   ]
  },
  {
   "cell_type": "code",
   "execution_count": null,
   "metadata": {
    "collapsed": true
   },
   "outputs": [],
   "source": [
    "\"ID text,post_author text,post_date text,post_date_gmt text, post_content text, post_title text, post_excerpt text, post_status text, comment_status text, ping_status text, post_password text, post_name text, to_ping text, pinged text, post_modified text, post_modified_gmt text, post_content_filtered text, post_parent text, guid text, menu_order text post_type text, post_mime_type text, comment_count text"
   ]
  },
  {
   "cell_type": "code",
   "execution_count": 515,
   "metadata": {},
   "outputs": [
    {
     "ename": "TypeError",
     "evalue": "__init__() missing 3 required positional arguments: 'dbname', 'user', and 'password'",
     "output_type": "error",
     "traceback": [
      "\u001b[0;31m---------------------------------------------------------------------------\u001b[0m",
      "\u001b[0;31mTypeError\u001b[0m                                 Traceback (most recent call last)",
      "\u001b[0;32m<ipython-input-515-7f00754c41fb>\u001b[0m in \u001b[0;36m<module>\u001b[0;34m()\u001b[0m\n\u001b[0;32m----> 1\u001b[0;31m \u001b[0mdatabase\u001b[0m\u001b[0;34m(\u001b[0m\u001b[0;34m)\u001b[0m\u001b[0;34m\u001b[0m\u001b[0m\n\u001b[0m",
      "\u001b[0;31mTypeError\u001b[0m: __init__() missing 3 required positional arguments: 'dbname', 'user', and 'password'"
     ]
    }
   ],
   "source": [
    "post_id text, meta_key text, meta_value text"
   ]
  },
  {
   "cell_type": "code",
   "execution_count": 1,
   "metadata": {},
   "outputs": [],
   "source": [
    "import MySQLdb"
   ]
  },
  {
   "cell_type": "code",
   "execution_count": 241,
   "metadata": {},
   "outputs": [],
   "source": [
    "class sqldb:\n",
    "    def __init__ (self):\n",
    "        conn = MySQLdb.connect(host=\"192.168.2.12\",port = 3306, user=\"realmadrid\", passwd=\"jacobjoetom\", db=\"realmadrid\",\n",
    "                              use_unicode= True, charset = \"utf8\")        # name of the data base\n",
    "        cur = conn.cursor()\n",
    "        conn.close()\n",
    "\n",
    "    def insert_old_copy(Name_of_video,Date_added, Duration,cast_name,Category, Description, Tags, search_criteria, Fembed_Link):\n",
    "        conn = MySQLdb.connect(host=\"192.168.2.12\",port = 3306, user=\"realmadrid\", passwd=\"jacobjoetom\", db=\"realmadrid\",\n",
    "                              use_unicode= True, charset = \"utf8\")        # name of the data base\n",
    "        cur = conn.cursor()\n",
    "        cur.execute(\"INSERT INTO real_madrid VALUES (%s , %s, %s, %s, %s, %s, %s, %s, %s)\",(Name_of_video,Date_added, Duration,cast_name,Category, Description, Tags, search_criteria, Fembed_Link))\n",
    "        conn.commit()\n",
    "        conn.close()\n",
    "\n",
    "    def view():\n",
    "        conn = MySQLdb.connect(host=\"192.168.2.12\",port = 3306, user=\"realmadrid\", passwd=\"jacobjoetom\", db=\"realmadrid\",\n",
    "                              use_unicode= True, charset = \"utf8\")        # name of the data base\n",
    "        cur = conn.cursor()\n",
    "        cur.execute(\"SELECT * FROM wp_posts\")\n",
    "        view = cur.fetchall()\n",
    "        conn.close()\n",
    "        return view\n",
    "    \n",
    "    \n",
    "    def insert_wppost(Name_of_video, date_added, content, postname):\n",
    "        conn = MySQLdb.connect(host=\"192.168.2.12\",port = 3306, user=\"realmadrid\", passwd=\"jacobjoetom\", db=\"realmadrid\",\n",
    "                              use_unicode= True, charset = \"utf8\")        # name of the data base\n",
    "        cur = conn.cursor()\n",
    "        cur.execute(\"SELECT * FROM `wp_posts` WHERE `post_title` = (%s)\", [Name_of_video])\n",
    "        exist = cur.fetchall()\n",
    "        if len (exist) > 1:\n",
    "            pass\n",
    "        else:\n",
    "            cur.execute(\"INSERT INTO `wp_posts`(`ID`, `post_title`, `post_date`, `post_content`, `post_name`) VALUES (%s, %s, %s, %s, %s)\",[200, Name_of_video, date_added, content, postname])\n",
    "            conn.commit()\n",
    "        conn.close()\n",
    "\n",
    "    def insert_wppostmeta(thumbimg):\n",
    "        conn = MySQLdb.connect(host=\"192.168.2.12\",port = 3306, user=\"realmadrid\", passwd=\"jacobjoetom\", db=\"realmadrid\",\n",
    "                              use_unicode= True, charset = \"utf8\")        # name of the data base\n",
    "        cur = conn.cursor()\n",
    "        cur.execute(\"SELECT * FROM `wp_postmeta` WHERE `post_id` = (%s) and `meta_key` = (%s)\", [200, \"fifu_image_url\"])\n",
    "        exist = cur.fetchall()\n",
    "        if len (exist) > 1:\n",
    "            pass\n",
    "        else:\n",
    "            cur.execute(\"INSERT INTO `wp_postmeta`wp_terms, `meta_value`, `meta_key`) VALUES (%s, %s, %s)\",[200, thumbimg, \"fifu_image_url\"])\n",
    "            conn.commit()\n",
    "        conn.close()\n",
    "    \n",
    "    def insert_wpterm(cast_name):\n",
    "        term_id_list = []\n",
    "        conn = MySQLdb.connect(host=\"192.168.2.12\",port = 3306, user=\"realmadrid\", passwd=\"jacobjoetom\", db=\"realmadrid\",\n",
    "                              use_unicode= True, charset = \"utf8\")        # name of the data base\n",
    "        cur = conn.cursor()\n",
    "        for num, actor in enumerate(cast_name.split(\",\")):\n",
    "            j = str(actor).strip()\n",
    "            i = j.replace(\" \", \"-\").lower()\n",
    "            cur.execute(\"SELECT `term_id` FROM `wp_terms` WHERE `slug` = (%s)\", [i])\n",
    "            exist = cur.fetchall()\n",
    "            if len(exist) > 0:\n",
    "                term_id_list.append([x[0] for x in exist])\n",
    "            else:\n",
    "                cur.execute(\"INSERT INTO `wp_terms` (`term_id`, `name`, `slug`) Values (%s, %s, %s)\", [300 + num, j, i])\n",
    "                #cur.execute(\"INSERT INTO `wp_term`(`term_id`, `name`, `slug`) VALUES (%s, %s, %s)\",[200, thumbimg, \"fifu_image_url\"])\n",
    "                conn.commit()\n",
    "                term_id_list.append(300 + num)\n",
    "            \n",
    "        for num,   \n",
    "                \n",
    "                \n",
    "                \n",
    "        return term_id_list"
   ]
  },
  {
   "cell_type": "code",
   "execution_count": 143,
   "metadata": {},
   "outputs": [
    {
     "data": {
      "text/plain": [
       "'2018-08-10'"
      ]
     },
     "execution_count": 143,
     "metadata": {},
     "output_type": "execute_result"
    }
   ],
   "source": [
    "from datetime import datetime\n",
    "\n",
    "content = \"\"\"<iframe src= {}{}{} width=\"848\" height=\"477\" frameborder=\"0\" allowfullscreen=\"allowfullscreen\"><span data-mce-type=\"bookmark\" style=\"display: inline-block; width: 0px; overflow: hidden; line-height: 0;\" class=\"mce_SELRES_start\">﻿</span></iframe>\"\"\".format('\"', fembed_link, '\"')\n",
    "content\n",
    "postname = str(fembed_link).split(\"/\")[-1]\n",
    "postname\n",
    "dateadded = datetime.strftime(datetime.strptime(str(date_added).strip().replace(\",\", \"\"), '%b %dth %Y'), \"%Y-%m-%d\")\n",
    "dateadded"
   ]
  },
  {
   "cell_type": "code",
   "execution_count": 128,
   "metadata": {
    "scrolled": true
   },
   "outputs": [
    {
     "name": "stderr",
     "output_type": "stream",
     "text": [
      "/Applications/anaconda3/lib/python3.6/site-packages/ipykernel_launcher.py:35: Warning: (1364, \"Field 'post_excerpt' doesn't have a default value\")\n",
      "/Applications/anaconda3/lib/python3.6/site-packages/ipykernel_launcher.py:35: Warning: (1364, \"Field 'to_ping' doesn't have a default value\")\n",
      "/Applications/anaconda3/lib/python3.6/site-packages/ipykernel_launcher.py:35: Warning: (1364, \"Field 'pinged' doesn't have a default value\")\n",
      "/Applications/anaconda3/lib/python3.6/site-packages/ipykernel_launcher.py:35: Warning: (1364, \"Field 'post_content_filtered' doesn't have a default value\")\n"
     ]
    }
   ],
   "source": [
    "sqldb.insert_wppost(Name_of_video, dateadded, content, postname)"
   ]
  },
  {
   "cell_type": "code",
   "execution_count": 156,
   "metadata": {},
   "outputs": [],
   "source": [
    "sqldb.insert_wppostmeta(thumb_img)"
   ]
  },
  {
   "cell_type": "code",
   "execution_count": 242,
   "metadata": {},
   "outputs": [
    {
     "data": {
      "text/plain": [
       "[[12, 300], [210, 301]]"
      ]
     },
     "execution_count": 242,
     "metadata": {},
     "output_type": "execute_result"
    }
   ],
   "source": [
    "cast = \"ass, joe\"\n",
    "sqldb.insert_wpterm(cast)"
   ]
  },
  {
   "cell_type": "code",
   "execution_count": null,
   "metadata": {
    "collapsed": true
   },
   "outputs": [],
   "source": []
  }
 ],
 "metadata": {
  "kernelspec": {
   "display_name": "Python 3",
   "language": "python",
   "name": "python3"
  },
  "language_info": {
   "codemirror_mode": {
    "name": "ipython",
    "version": 3
   },
   "file_extension": ".py",
   "mimetype": "text/x-python",
   "name": "python",
   "nbconvert_exporter": "python",
   "pygments_lexer": "ipython3",
   "version": "3.6.3"
  }
 },
 "nbformat": 4,
 "nbformat_minor": 2
}
